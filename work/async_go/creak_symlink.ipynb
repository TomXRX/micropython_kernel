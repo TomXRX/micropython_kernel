{
 "cells": [
  {
   "cell_type": "code",
   "execution_count": 2,
   "id": "71d498f1-6a67-4f01-b731-2c937622cde5",
   "metadata": {},
   "outputs": [],
   "source": [
    "import os"
   ]
  },
  {
   "cell_type": "raw",
   "id": "e71374e2-2448-4908-93c3-d3a1918729a0",
   "metadata": {},
   "source": [
    "os.symlink(\"../esp_udp.py\",\"esp_udp.py\")"
   ]
  },
  {
   "cell_type": "code",
   "execution_count": 3,
   "id": "0886f634-ee4e-4ab9-9aef-12aaa0329136",
   "metadata": {},
   "outputs": [],
   "source": [
    "os.symlink(\"../udp_test/util.py\",\"util.py\")"
   ]
  },
  {
   "cell_type": "code",
   "execution_count": null,
   "id": "192d9941-ca20-47fa-86a5-afe612749b45",
   "metadata": {},
   "outputs": [],
   "source": []
  }
 ],
 "metadata": {
  "kernelspec": {
   "display_name": "Python 3 (ipykernel)",
   "language": "python",
   "name": "python3"
  },
  "language_info": {
   "codemirror_mode": {
    "name": "ipython",
    "version": 3
   },
   "file_extension": ".py",
   "mimetype": "text/x-python",
   "name": "python",
   "nbconvert_exporter": "python",
   "pygments_lexer": "ipython3",
   "version": "3.7.3"
  }
 },
 "nbformat": 4,
 "nbformat_minor": 5
}
