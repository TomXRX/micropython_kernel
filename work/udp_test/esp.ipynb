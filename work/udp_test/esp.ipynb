{
 "cells": [
  {
   "cell_type": "code",
   "execution_count": 1,
   "id": "d679d0bd-65c6-499d-882b-19212f9a41da",
   "metadata": {},
   "outputs": [
    {
     "name": "stdout",
     "output_type": "stream",
     "text": [
      "from esp_udp import *\n",
      "import socket\n"
     ]
    }
   ],
   "source": [
    "from esp_udp import *\n",
    "import socket"
   ]
  },
  {
   "cell_type": "code",
   "execution_count": 2,
   "id": "f698483f-0bf0-47c2-9a4c-ffe02f6e8d1c",
   "metadata": {},
   "outputs": [
    {
     "name": "stdout",
     "output_type": "stream",
     "text": [
      "addr=socket.getaddrinfo(\"0.0.0.0\", \"8080\", socket.AF_INET, socket.SOCK_DGRAM)[0][4]\n"
     ]
    }
   ],
   "source": [
    "addr=socket.getaddrinfo(\"0.0.0.0\", \"8080\", socket.AF_INET, socket.SOCK_DGRAM)[0][4]"
   ]
  },
  {
   "cell_type": "code",
   "execution_count": 3,
   "id": "9e67b106-6714-4ba4-99be-04cc298d0f93",
   "metadata": {},
   "outputs": [
    {
     "name": "stdout",
     "output_type": "stream",
     "text": [
      "u=UDP_Connection(addr)\n"
     ]
    }
   ],
   "source": [
    "u=UDP_Connection(addr)"
   ]
  },
  {
   "cell_type": "code",
   "execution_count": 4,
   "id": "bcd30dcb-0e54-4db9-a520-c897960dd037",
   "metadata": {},
   "outputs": [
    {
     "name": "stdout",
     "output_type": "stream",
     "text": [
      "u()\n"
     ]
    }
   ],
   "source": [
    "u()"
   ]
  },
  {
   "cell_type": "code",
   "execution_count": 5,
   "id": "dd1ce49f-8276-4558-be6f-34997d2147a3",
   "metadata": {},
   "outputs": [
    {
     "name": "stdout",
     "output_type": "stream",
     "text": [
      "from util import *\n"
     ]
    }
   ],
   "source": [
    "from util import *"
   ]
  },
  {
   "cell_type": "code",
   "execution_count": 6,
   "id": "2bcf5a9b-ee3b-49d0-b19c-15e27ccfdc64",
   "metadata": {},
   "outputs": [
    {
     "name": "stdout",
     "output_type": "stream",
     "text": [
      "b=Buff(maxlen=2)\n"
     ]
    }
   ],
   "source": [
    "b=Buff(maxlen=2)"
   ]
  },
  {
   "cell_type": "code",
   "execution_count": null,
   "id": "0bdf005f-5472-4a98-b146-0199f38db759",
   "metadata": {},
   "outputs": [],
   "source": []
  },
  {
   "cell_type": "code",
   "execution_count": 7,
   "id": "37e4352f-9250-40d0-856b-54c35947c230",
   "metadata": {},
   "outputs": [
    {
     "name": "stdout",
     "output_type": "stream",
     "text": [
      "time.sleep_ms(100)\n"
     ]
    }
   ],
   "source": [
    "time.sleep_ms(100)"
   ]
  },
  {
   "cell_type": "code",
   "execution_count": null,
   "id": "eb185785-182b-4447-9351-a137356ae825",
   "metadata": {},
   "outputs": [],
   "source": []
  },
  {
   "cell_type": "code",
   "execution_count": 1,
   "id": "4d9db6d2-a7f0-4efd-b88f-0797b85a2fa0",
   "metadata": {},
   "outputs": [
    {
     "name": "stdout",
     "output_type": "stream",
     "text": [
      "import network\n",
      "Traceback (most recent call last):\n",
      "  File \"<stdin>\", line 1, in <module>\n",
      "ImportError: no module named 'network'\n",
      "self.wlan = network.WLAN(network.STA_IF)\n",
      "Traceback (most recent call last):\n",
      "  File \"<stdin>\", line 1, in <module>\n",
      "NameError: name 'network' isn't defined\n"
     ]
    }
   ],
   "source": [
    "import network\n",
    "self.wlan = network.WLAN(network.STA_IF)"
   ]
  },
  {
   "cell_type": "code",
   "execution_count": null,
   "id": "5b23107e-2782-45dc-8550-b1f00ebe4381",
   "metadata": {},
   "outputs": [],
   "source": []
  }
 ],
 "metadata": {
  "kernelspec": {
   "display_name": "Micropython",
   "language": "text",
   "name": "micropython"
  },
  "language_info": {
   "codemirror_mode": "shell",
   "file_extension": ".sh",
   "mimetype": "text/x-sh",
   "name": "micropython_bash"
  }
 },
 "nbformat": 4,
 "nbformat_minor": 5
}
