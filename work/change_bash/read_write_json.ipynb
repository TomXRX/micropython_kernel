{
 "cells": [
  {
   "cell_type": "code",
   "execution_count": 1,
   "id": "9eee46d1-dda2-4d62-9acc-465355b05551",
   "metadata": {},
   "outputs": [],
   "source": [
    "import json"
   ]
  },
  {
   "cell_type": "code",
   "execution_count": 8,
   "id": "c1bacd6c-baf7-4668-a3f4-23d894f77f51",
   "metadata": {},
   "outputs": [],
   "source": [
    "with open(\"/home/jovyan/work/mqtt.json\",\"w\") as f:\n",
    "    json.dump({\"HOST\":\"host.docker.internal\",\n",
    "               \"PORT\":1883\n",
    "              },f)"
   ]
  },
  {
   "cell_type": "code",
   "execution_count": 9,
   "id": "625380e9-f087-4a60-97e4-031e5c1c0bbe",
   "metadata": {},
   "outputs": [
    {
     "data": {
      "text/plain": [
       "{'HOST': 'host.docker.internal', 'PORT': 1883}"
      ]
     },
     "execution_count": 9,
     "metadata": {},
     "output_type": "execute_result"
    }
   ],
   "source": [
    "with open('/home/jovyan/work/mqtt.json') as f:\n",
    "    data = json.load(f)\n",
    "data"
   ]
  },
  {
   "cell_type": "code",
   "execution_count": null,
   "id": "dfb28b88-5c8f-4b4a-ad01-efbf1c09debf",
   "metadata": {},
   "outputs": [],
   "source": []
  }
 ],
 "metadata": {
  "kernelspec": {
   "display_name": "Python 3 (ipykernel)",
   "language": "python",
   "name": "python3"
  },
  "language_info": {
   "codemirror_mode": {
    "name": "ipython",
    "version": 3
   },
   "file_extension": ".py",
   "mimetype": "text/x-python",
   "name": "python",
   "nbconvert_exporter": "python",
   "pygments_lexer": "ipython3",
   "version": "3.10.5"
  }
 },
 "nbformat": 4,
 "nbformat_minor": 5
}
