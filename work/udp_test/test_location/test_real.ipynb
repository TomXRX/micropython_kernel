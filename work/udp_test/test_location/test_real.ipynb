{
 "cells": [
  {
   "cell_type": "code",
   "execution_count": 1,
   "id": "1ebdbc24-73be-4100-91b6-c1cc4ed20d2e",
   "metadata": {},
   "outputs": [],
   "source": [
    "import socket,time\n",
    "import struct\n",
    "def spliter(format,buffer):\n",
    "    data=buffer[:struct.calcsize(format)]\n",
    "    buffer=buffer[struct.calcsize(format):]\n",
    "    ret=struct.unpack(format,data)\n",
    "    if len(ret)==1:ret=ret[0]\n",
    "    return ret,buffer\n",
    "\n",
    "from collections import deque\n",
    "class ESP:\n",
    "    \"\"\"make udp connections\"\"\"\n",
    "    def __init__(self,place,self_port=9999,remote_port=8080,max_rate=1000,low_rate=100,save=10):\n",
    "        if type(place)==int:\n",
    "            place=str(place)\n",
    "            place=\"192.168.1.\" + place\n",
    "        self.place=place\n",
    "        self.self_port=self_port\n",
    "        self.remote_port = remote_port\n",
    "        self.self_port=self_port\n",
    "        self.udp = socket.socket(socket.AF_INET, socket.SOCK_DGRAM)\n",
    "        self.udp.setblocking(False)\n",
    "        self.max_rate=max_rate\n",
    "        self.low_rate=low_rate\n",
    "\n",
    "        self.connect()\n",
    "\n",
    "        self.encode_list = []\n",
    "        self.decode_list = []\n",
    "        self.encode_list.append([\"I\", \"get_num\"])\n",
    "\n",
    "        self.decode_list.append([\"I\", \"to_num\"])\n",
    "        self.decode_list.append([\"b\", \"get_rssi\"])\n",
    "\n",
    "        self.mode = 0\n",
    "\n",
    "        # self.save=save\n",
    "        self.save_num=0\n",
    "\n",
    "    last_value=b\"\"\n",
    "    def send(self,buf):\n",
    "        num,buffer=spliter(\"I\",buf)\n",
    "        if self.last_value!=buffer:\n",
    "            self.save_num=num\n",
    "            self.send_(buf)\n",
    "        else:\n",
    "            if not self.save_num<self.to_num:\n",
    "                self.send_(buf)\n",
    "            elif self.get_interval() > 60 / self.low_rate:self.send_(buf)\n",
    "\n",
    "        self.last_value=buffer\n",
    "\n",
    "    def send_(self,buffer):\n",
    "        self.udp.send(buffer)\n",
    "        self.last_get = time.perf_counter()\n",
    "\n",
    "    def connect(self):\n",
    "        n = socket.gethostname()\n",
    "        bind=socket.gethostbyname_ex(n)[-1][-1]\n",
    "        self.udp.bind((bind,self.self_port))\n",
    "        self.udp.connect((self.place,self.remote_port))\n",
    "        \n",
    "        \n",
    "    last_get=None\n",
    "    def get_interval(self):\n",
    "        if self.last_get is None:\n",
    "            self.last_get=time.perf_counter()\n",
    "            return\n",
    "        ret=time.perf_counter()-self.last_get\n",
    "        return ret\n",
    "\n",
    "    num = 0\n",
    "    def get_num(self):\n",
    "        self.num += 1\n",
    "        return self.num\n",
    "    \n",
    "    last=0\n",
    "    def last_recv(self,check=True,wait=5):\n",
    "        #检查是否是同一个连接\n",
    "        if check:\n",
    "            return self.get_time() - self.last < wait\n",
    "        else:self.last=self.get_time()\n",
    "    \n",
    "    def get_time(self):return time.perf_counter()\n",
    "\n",
    "    to_num=0\n",
    "    def decode(self, buffer):\n",
    "        self.last_recv(0)\n",
    "#         print(buffer)\n",
    "        for form, name in self.decode_list:\n",
    "            data, buffer = spliter(form, buffer)\n",
    "\n",
    "            if name==\"to_num\":\n",
    "                if self.to_num>data and self.last_recv():break\n",
    "            \n",
    "            if (not name in self.__dict__) or not callable(self.__dict__[name]):\n",
    "                self.__dict__[name] = data\n",
    "            elif hasattr(self, name):\n",
    "                if type(data)==tuple:\n",
    "                    getattr(self, name)(*data)\n",
    "                else:getattr(self, name)(data)\n",
    "\n",
    "    def encode(self):\n",
    "        buffer = b\"\"\n",
    "        for form, name in self.encode_list:\n",
    "            if name in self.__dict__ and not callable(self.__dict__[name]):\n",
    "                data = self.__dict__[name]\n",
    "            elif hasattr(self,name):\n",
    "                data = getattr(self,name)()\n",
    "            if type(data) in [tuple,list]:buffer += struct.pack(form, *data)\n",
    "            else:buffer += struct.pack(form, data)\n",
    "        return buffer\n",
    "\n",
    "    def __call__(self, *args, **kwargs):\n",
    "        g=self.get_interval()\n",
    "        if g is None or g>60/self.max_rate:\n",
    "            self.send(self.encode())\n",
    "        if True:\n",
    "            try:\n",
    "                recv = self.udp.recv(8192)\n",
    "                self.decode(recv)\n",
    "                return True\n",
    "            except Exception as e:\n",
    "                if not e.args[0] == 11:\n",
    "                    print(e)\n",
    "                    raise e\n",
    "\n",
    "\n",
    "class Controller(ESP):\n",
    "    def add_control_set(self, lis):\n",
    "        self.encode_list.append(lis)\n",
    "    def add_recv_set(self,lis):\n",
    "        self.decode_list.append(lis)\n",
    "\n",
    "    def 延迟(self):\n",
    "        self.num\n",
    "\n",
    "    def 丢包率(self):\n",
    "        self.num"
   ]
  },
  {
   "cell_type": "code",
   "execution_count": null,
   "id": "025463b4-86e5-4ded-9176-e6fc6870f69d",
   "metadata": {},
   "outputs": [],
   "source": []
  },
  {
   "cell_type": "code",
   "execution_count": 2,
   "id": "b8a0d25c-66c8-4d4e-b64b-a307867a0932",
   "metadata": {},
   "outputs": [
    {
     "data": {
      "text/plain": [
       "'192.168.160.2'"
      ]
     },
     "execution_count": 2,
     "metadata": {},
     "output_type": "execute_result"
    }
   ],
   "source": [
    "bind=socket.gethostbyname_ex(socket.gethostname())[-1][-1]\n",
    "bind"
   ]
  },
  {
   "cell_type": "code",
   "execution_count": 3,
   "id": "4355c97a-b8c2-45cc-9363-bdc2b2e78451",
   "metadata": {},
   "outputs": [],
   "source": [
    "esp=Controller(\"192.168.2.123\",self_port=5008)"
   ]
  },
  {
   "cell_type": "code",
   "execution_count": 4,
   "id": "24bcf439-a7b2-4f92-be2f-e148ba461ee3",
   "metadata": {},
   "outputs": [
    {
     "data": {
      "text/plain": [
       "('192.168.2.123', 8080)"
      ]
     },
     "execution_count": 4,
     "metadata": {},
     "output_type": "execute_result"
    }
   ],
   "source": [
    "esp.place,esp.remote_port"
   ]
  },
  {
   "cell_type": "code",
   "execution_count": 5,
   "id": "cfef2c7e-810d-4a33-a2dc-5ceebef583e0",
   "metadata": {},
   "outputs": [],
   "source": [
    "esp()"
   ]
  },
  {
   "cell_type": "code",
   "execution_count": 6,
   "id": "069c6805-d5a2-41fb-af6a-100d4081e66f",
   "metadata": {},
   "outputs": [
    {
     "data": {
      "text/plain": [
       "<socket.socket fd=74, family=AddressFamily.AF_INET, type=SocketKind.SOCK_DGRAM, proto=0, laddr=('192.168.160.2', 5008), raddr=('192.168.2.123', 8080)>"
      ]
     },
     "execution_count": 6,
     "metadata": {},
     "output_type": "execute_result"
    }
   ],
   "source": [
    "esp.udp"
   ]
  },
  {
   "cell_type": "code",
   "execution_count": null,
   "id": "513e3c47-1d2d-4fde-9dba-1796e05d39a7",
   "metadata": {},
   "outputs": [],
   "source": []
  },
  {
   "cell_type": "code",
   "execution_count": 7,
   "id": "e2035be5-82fa-4ed3-9aa7-ebf74c974bc8",
   "metadata": {},
   "outputs": [],
   "source": [
    "esp.add_recv_set([\"6I\", \"C\"])"
   ]
  },
  {
   "cell_type": "code",
   "execution_count": null,
   "id": "b8c14027-cde7-4aae-b5ac-0ebb19c7089e",
   "metadata": {},
   "outputs": [],
   "source": []
  },
  {
   "cell_type": "code",
   "execution_count": 8,
   "id": "bf029a9c-64f9-4299-a0ff-c58febda6b39",
   "metadata": {},
   "outputs": [],
   "source": [
    "%run from_empyty_list.ipynb"
   ]
  },
  {
   "cell_type": "code",
   "execution_count": 9,
   "id": "e434a162-882b-4f12-b35a-31c1e817f32b",
   "metadata": {},
   "outputs": [
    {
     "data": {
      "text/plain": [
       "([], 0)"
      ]
     },
     "execution_count": 9,
     "metadata": {},
     "output_type": "execute_result"
    }
   ],
   "source": [
    "esp.C=C\n",
    "C.li,C.now_num"
   ]
  },
  {
   "cell_type": "code",
   "execution_count": 62,
   "id": "7b2d9abe-3f8a-44ee-929b-3249ae00ef3f",
   "metadata": {},
   "outputs": [
    {
     "data": {
      "text/plain": [
       "[205,\n",
       " 206,\n",
       " 207,\n",
       " 208,\n",
       " 208,\n",
       " 210,\n",
       " 211,\n",
       " 213,\n",
       " 218,\n",
       " 218,\n",
       " 226,\n",
       " 242,\n",
       " 283,\n",
       " 370,\n",
       " 226,\n",
       " 242,\n",
       " 283,\n",
       " 370,\n",
       " 533]"
      ]
     },
     "execution_count": 62,
     "metadata": {},
     "output_type": "execute_result"
    }
   ],
   "source": [
    "for i in range(1000):esp()\n",
    "C.li"
   ]
  },
  {
   "cell_type": "code",
   "execution_count": 63,
   "id": "4be7d546-35ed-483d-a122-a24d1adcdd66",
   "metadata": {},
   "outputs": [
    {
     "data": {
      "text/plain": [
       "19"
      ]
     },
     "execution_count": 63,
     "metadata": {},
     "output_type": "execute_result"
    }
   ],
   "source": [
    "len(C.li)"
   ]
  },
  {
   "cell_type": "code",
   "execution_count": null,
   "id": "672a9ae0-0ac3-40df-9490-3e437c505101",
   "metadata": {},
   "outputs": [],
   "source": []
  }
 ],
 "metadata": {
  "kernelspec": {
   "display_name": "Python 3 (ipykernel)",
   "language": "python",
   "name": "python3"
  },
  "language_info": {
   "codemirror_mode": {
    "name": "ipython",
    "version": 3
   },
   "file_extension": ".py",
   "mimetype": "text/x-python",
   "name": "python",
   "nbconvert_exporter": "python",
   "pygments_lexer": "ipython3",
   "version": "3.7.3"
  }
 },
 "nbformat": 4,
 "nbformat_minor": 5
}
