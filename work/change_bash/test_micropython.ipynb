{
 "cells": [
  {
   "cell_type": "code",
   "execution_count": 1,
   "id": "fe604702-d5ae-4d5b-84b0-aaa12897ba2d",
   "metadata": {},
   "outputs": [],
   "source": [
    "from pexpect import replwrap, EOF\n",
    "import pexpect\n",
    "\n",
    "from subprocess import check_output\n",
    "import os.path\n",
    "import os\n",
    "\n",
    "import re\n",
    "import signal\n",
    "\n",
    "from pexpect.replwrap import REPLWrapper"
   ]
  },
  {
   "cell_type": "code",
   "execution_count": 2,
   "id": "023e85f2-99ef-4f55-aeb3-ab1b46cf69a6",
   "metadata": {},
   "outputs": [],
   "source": [
    "child = pexpect.spawn(\"/usr/local/bin/micropython-dev\", echo=False,\n",
    "                      encoding='utf-8', codec_errors='replace')\n",
    "ps1 = replwrap.PEXPECT_PROMPT[:5] + u'\\[\\]' + replwrap.PEXPECT_PROMPT[5:]\n",
    "ps2 = replwrap.PEXPECT_CONTINUATION_PROMPT[:5] + u'\\[\\]' + replwrap.PEXPECT_CONTINUATION_PROMPT[5:]\n",
    "prompt_change = u\"PS1='{0}' PS2='{1}' PROMPT_COMMAND=''\".format(ps1, ps2)\n",
    "# Using IREPLWrapper to get incremental output"
   ]
  },
  {
   "cell_type": "code",
   "execution_count": 3,
   "id": "41a7867d-93fe-408b-9883-4d7b7315ebc0",
   "metadata": {},
   "outputs": [],
   "source": [
    "micro_wrap=REPLWrapper(\"/usr/local/bin/micropython-dev\",\">>> \",None)"
   ]
  },
  {
   "cell_type": "code",
   "execution_count": 4,
   "id": "a06b0f08-6a0c-4e3a-87de-fc0997172a1f",
   "metadata": {},
   "outputs": [],
   "source": [
    "micro_wrap=REPLWrapper(\"/usr/local/bin/micropython-dev\",\">>> \",\"import sys; sys.ps1={!r}; sys.ps2={!r}\")"
   ]
  },
  {
   "cell_type": "raw",
   "id": "f4d48e27-f93f-4d2f-bd18-ea35a722c1af",
   "metadata": {},
   "source": [
    "bashwrapper = replwrap.REPLWrapper(child, u'\\$', prompt_change,extra_init_cmd=\"export PAGER=cat\")"
   ]
  },
  {
   "cell_type": "code",
   "execution_count": null,
   "id": "ed9e516a-aa6e-4c39-8369-15189903eead",
   "metadata": {},
   "outputs": [],
   "source": []
  },
  {
   "cell_type": "code",
   "execution_count": 6,
   "id": "0b7c8497-4336-4c9a-bf7c-1f7c65949e8a",
   "metadata": {},
   "outputs": [
    {
     "data": {
      "text/plain": [
       "'import os\\r\\r\\nTraceback (most recent call last):\\r\\n  File \"<stdin>\", line 1, in <module>\\r\\nKeyboardInterrupt: \\r\\n'"
      ]
     },
     "execution_count": 6,
     "metadata": {},
     "output_type": "execute_result"
    }
   ],
   "source": [
    "micro_wrap.run_command(\"import os\")"
   ]
  },
  {
   "cell_type": "code",
   "execution_count": 8,
   "id": "367fd94e-5f9e-4809-af96-d7e82072a7af",
   "metadata": {},
   "outputs": [
    {
     "data": {
      "text/plain": [
       "\"os\\r\\r\\n<module 'uos'>\\r\\n\""
      ]
     },
     "execution_count": 8,
     "metadata": {},
     "output_type": "execute_result"
    }
   ],
   "source": [
    "micro_wrap.run_command(\"os\",)"
   ]
  },
  {
   "cell_type": "code",
   "execution_count": 10,
   "id": "248c1bea-c711-4593-b680-799a246f4663",
   "metadata": {},
   "outputs": [
    {
     "data": {
      "text/plain": [
       "\"os\\r\\r\\n<module 'uos'>\\r\\n\""
      ]
     },
     "execution_count": 10,
     "metadata": {},
     "output_type": "execute_result"
    }
   ],
   "source": [
    "micro_wrap.child.before"
   ]
  },
  {
   "cell_type": "code",
   "execution_count": null,
   "id": "3c07620a-b897-4153-a404-eeb251811213",
   "metadata": {},
   "outputs": [],
   "source": []
  },
  {
   "cell_type": "code",
   "execution_count": null,
   "id": "bfd940bb-c9d6-4db8-8dcb-20b8691814e4",
   "metadata": {},
   "outputs": [],
   "source": [
    "py = REPLWrapper(\"python3\", \">>> \", \"import sys; sys.ps1={!r}; sys.ps2={!r}\")\n",
    "py.run_command(\"4+7\")"
   ]
  },
  {
   "cell_type": "code",
   "execution_count": null,
   "id": "238ccdce-fc40-4a0e-af2f-29a4dc9551ee",
   "metadata": {},
   "outputs": [],
   "source": []
  }
 ],
 "metadata": {
  "kernelspec": {
   "display_name": "Python 3 (ipykernel)",
   "language": "python",
   "name": "python3"
  },
  "language_info": {
   "codemirror_mode": {
    "name": "ipython",
    "version": 3
   },
   "file_extension": ".py",
   "mimetype": "text/x-python",
   "name": "python",
   "nbconvert_exporter": "python",
   "pygments_lexer": "ipython3",
   "version": "3.7.3"
  }
 },
 "nbformat": 4,
 "nbformat_minor": 5
}
