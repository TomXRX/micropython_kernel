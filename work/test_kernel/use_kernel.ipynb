{
 "cells": [
  {
   "cell_type": "code",
   "execution_count": 1,
   "id": "3c6cd504-77cd-4ed6-8087-04b6c67733a9",
   "metadata": {},
   "outputs": [
    {
     "name": "stdout",
     "output_type": "stream",
     "text": [
      "1\n",
      "1\n"
     ]
    }
   ],
   "source": [
    "1"
   ]
  },
  {
   "cell_type": "code",
   "execution_count": 2,
   "id": "5242cae8-1f45-49fd-aaff-149d9f06fd8a",
   "metadata": {},
   "outputs": [
    {
     "name": "stdout",
     "output_type": "stream",
     "text": [
      "import os\n"
     ]
    }
   ],
   "source": [
    "import os"
   ]
  },
  {
   "cell_type": "code",
   "execution_count": 3,
   "id": "7e075709-3579-4920-9d53-0402624c64f2",
   "metadata": {},
   "outputs": [
    {
     "name": "stdout",
     "output_type": "stream",
     "text": [
      "os\n",
      "<module 'uos'>\n"
     ]
    }
   ],
   "source": [
    "os"
   ]
  },
  {
   "cell_type": "code",
   "execution_count": 4,
   "id": "c60bd056-847e-4578-ad55-e7b3368d1c53",
   "metadata": {},
   "outputs": [
    {
     "name": "stdout",
     "output_type": "stream",
     "text": [
      "import kernel\n",
      "Traceback (most recent call last):\n",
      "  File \"<stdin>\", line 1, in <module>\n",
      "ImportError: no module named 'kernel'\n"
     ]
    }
   ],
   "source": [
    "import kernel"
   ]
  },
  {
   "cell_type": "code",
   "execution_count": 5,
   "id": "23ffe6b0-175d-42a4-8811-e2554ccd16a9",
   "metadata": {},
   "outputs": [
    {
     "name": "stdout",
     "output_type": "stream",
     "text": [
      "import os\n",
      "os.listdir()\n",
      "['.ipynb_checkpoints', 'install_from_pip.ipynb', 'use_kernel.ipynb']\n"
     ]
    }
   ],
   "source": [
    "import os\n",
    "os.listdir()"
   ]
  },
  {
   "cell_type": "code",
   "execution_count": null,
   "id": "652a0c8e-cfcd-4f59-a013-a14082e508c4",
   "metadata": {},
   "outputs": [],
   "source": []
  }
 ],
 "metadata": {
  "kernelspec": {
   "display_name": "Micropython",
   "language": "text",
   "name": "micropython"
  },
  "language_info": {
   "codemirror_mode": "shell",
   "file_extension": ".sh",
   "mimetype": "text/x-sh",
   "name": "micropython_bash"
  }
 },
 "nbformat": 4,
 "nbformat_minor": 5
}
