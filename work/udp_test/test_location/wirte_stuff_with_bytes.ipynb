{
 "cells": [
  {
   "cell_type": "code",
   "execution_count": 1,
   "id": "cf05b54e-bee2-4997-9504-811a200da791",
   "metadata": {},
   "outputs": [],
   "source": [
    "import json,random"
   ]
  },
  {
   "cell_type": "code",
   "execution_count": 2,
   "id": "f0711ccf-cba5-4dfa-a1a7-5fae07a01453",
   "metadata": {},
   "outputs": [],
   "source": [
    "kk=[random.randint(0,4096) for i in range(100)]"
   ]
  },
  {
   "cell_type": "code",
   "execution_count": null,
   "id": "b8ef3bee-e0c0-4b43-a2be-00dedbc0b391",
   "metadata": {},
   "outputs": [],
   "source": []
  },
  {
   "cell_type": "code",
   "execution_count": 3,
   "id": "c14e0707-4659-4e85-9ea8-fc5cd4b4ebc8",
   "metadata": {},
   "outputs": [
    {
     "name": "stdout",
     "output_type": "stream",
     "text": [
      "None\n"
     ]
    }
   ],
   "source": [
    "with open(\"stuff.txt\", 'w') as f:\n",
    "    print(json.dump(kk,f))"
   ]
  },
  {
   "cell_type": "code",
   "execution_count": 4,
   "id": "605e5737-4f52-4c4c-b39f-90adea2f489b",
   "metadata": {},
   "outputs": [
    {
     "name": "stdout",
     "output_type": "stream",
     "text": [
      "[3628, 2213, 825, 1440, 3507, 2935, 2181, 3662, 143, 1287, 955, 1963, 426, 3373, 1128, 3945, 761, 135, 3462, 2168, 676, 1545, 2390, 3055, 477, 383, 3104, 645, 3495, 316, 2451, 1220, 2714, 3457, 1717, 3937, 1803, 1232, 1535, 4, 1977, 3161, 2791, 363, 3663, 1110, 3136, 377, 1352, 744, 3796, 3123, 3755, 3711, 1179, 2011, 3847, 1147, 710, 3723, 929, 807, 3849, 3726, 1592, 668, 2839, 4076, 1814, 2760, 214, 2329, 2168, 2553, 1631, 1579, 3493, 3630, 1257, 1179, 1195, 1645, 446, 599, 4084, 1420, 77, 3660, 712, 1261, 2988, 37, 778, 2473, 2337, 2937, 3768, 3932, 412, 2572]\n"
     ]
    }
   ],
   "source": [
    "with open(\"stuff.txt\", 'r') as f:\n",
    "    print(json.load(f))"
   ]
  },
  {
   "cell_type": "code",
   "execution_count": null,
   "id": "5a176a7d-c0cb-4540-8c1e-c11be02a078b",
   "metadata": {},
   "outputs": [],
   "source": []
  }
 ],
 "metadata": {
  "kernelspec": {
   "display_name": "Python 3 (ipykernel)",
   "language": "python",
   "name": "python3"
  },
  "language_info": {
   "codemirror_mode": {
    "name": "ipython",
    "version": 3
   },
   "file_extension": ".py",
   "mimetype": "text/x-python",
   "name": "python",
   "nbconvert_exporter": "python",
   "pygments_lexer": "ipython3",
   "version": "3.7.3"
  }
 },
 "nbformat": 4,
 "nbformat_minor": 5
}
