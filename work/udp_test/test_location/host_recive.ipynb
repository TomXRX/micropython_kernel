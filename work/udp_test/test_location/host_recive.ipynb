{
 "cells": [
  {
   "cell_type": "code",
   "execution_count": 1,
   "id": "e42e774d-517d-41b6-8c9f-400754bf5916",
   "metadata": {},
   "outputs": [],
   "source": [
    "import socket,time\n",
    "import struct\n",
    "def spliter(format,buffer):\n",
    "    data=buffer[:struct.calcsize(format)]\n",
    "    buffer=buffer[struct.calcsize(format):]\n",
    "    ret=struct.unpack(format,data)\n",
    "    if len(ret)==1:ret=ret[0]\n",
    "    return ret,buffer\n",
    "\n",
    "from collections import deque\n",
    "class ESP:\n",
    "    \"\"\"make udp connections\"\"\"\n",
    "    def __init__(self,place,self_port=9999,remote_port=8080,max_rate=1000,low_rate=100,save=10):\n",
    "        if type(place)==int:\n",
    "            place=str(place)\n",
    "            place=\"192.168.1.\" + place\n",
    "        self.place=place\n",
    "        self.self_port=self_port\n",
    "        self.remote_port = remote_port\n",
    "        self.self_port=self_port\n",
    "        self.udp = socket.socket(socket.AF_INET, socket.SOCK_DGRAM)\n",
    "        self.udp.setblocking(False)\n",
    "        self.max_rate=max_rate\n",
    "        self.low_rate=low_rate\n",
    "\n",
    "        self.connect()\n",
    "\n",
    "        self.encode_list = []\n",
    "        self.decode_list = []\n",
    "        self.encode_list.append([\"I\", \"get_num\"])\n",
    "\n",
    "        self.decode_list.append([\"I\", \"to_num\"])\n",
    "        self.decode_list.append([\"b\", \"get_rssi\"])\n",
    "\n",
    "        self.mode = 0\n",
    "\n",
    "        # self.save=save\n",
    "        self.save_num=0\n",
    "\n",
    "    last_value=b\"\"\n",
    "    def send(self,buf):\n",
    "        num,buffer=spliter(\"I\",buf)\n",
    "        if self.last_value!=buffer:\n",
    "            self.save_num=num\n",
    "            self.send_(buf)\n",
    "        else:\n",
    "            if not self.save_num<self.to_num:\n",
    "                self.send_(buf)\n",
    "            elif self.get_interval() > 60 / self.low_rate:self.send_(buf)\n",
    "\n",
    "        self.last_value=buffer\n",
    "\n",
    "    def send_(self,buffer):\n",
    "        self.udp.send(buffer)\n",
    "        self.last_get = time.perf_counter()\n",
    "\n",
    "    def connect(self):\n",
    "        n = socket.gethostname()\n",
    "        bind=socket.gethostbyname_ex(n)[-1][-1]\n",
    "        self.udp.bind((bind,self.self_port))\n",
    "        self.udp.connect((self.place,self.remote_port))\n",
    "        \n",
    "        \n",
    "    last_get=None\n",
    "    def get_interval(self):\n",
    "        if self.last_get is None:\n",
    "            self.last_get=time.perf_counter()\n",
    "            return\n",
    "        ret=time.perf_counter()-self.last_get\n",
    "        return ret\n",
    "\n",
    "    num = 0\n",
    "    def get_num(self):\n",
    "        self.num += 1\n",
    "        return self.num\n",
    "    \n",
    "    last=0\n",
    "    def last_recv(self,check=True,wait=5):\n",
    "        #检查是否是同一个连接\n",
    "        if check:\n",
    "            return self.get_time() - self.last < wait\n",
    "        else:self.last=self.get_time()\n",
    "    \n",
    "    def get_time(self):return time.perf_counter()\n",
    "\n",
    "    to_num=0\n",
    "    def decode(self, buffer):\n",
    "        self.last_recv(0)\n",
    "#         print(buffer)\n",
    "        for form, name in self.decode_list:\n",
    "            data, buffer = spliter(form, buffer)\n",
    "\n",
    "            if name==\"to_num\":\n",
    "                if self.to_num>data and self.last_recv():break\n",
    "            \n",
    "            if (not name in self.__dict__) or not callable(self.__dict__[name]):\n",
    "                self.__dict__[name] = data\n",
    "            elif hasattr(self, name):\n",
    "                if type(data)==tuple:\n",
    "                    getattr(self, name)(*data)\n",
    "                else:getattr(self, name)(data)\n",
    "\n",
    "    def encode(self):\n",
    "        buffer = b\"\"\n",
    "        for form, name in self.encode_list:\n",
    "            if name in self.__dict__ and not callable(self.__dict__[name]):\n",
    "                data = self.__dict__[name]\n",
    "            elif hasattr(self,name):\n",
    "                data = getattr(self,name)()\n",
    "            if type(data) in [tuple,list]:buffer += struct.pack(form, *data)\n",
    "            else:buffer += struct.pack(form, data)\n",
    "        return buffer\n",
    "\n",
    "    def __call__(self, *args, **kwargs):\n",
    "        g=self.get_interval()\n",
    "        if g is None or g>60/self.max_rate:\n",
    "            self.send(self.encode())\n",
    "        if True:\n",
    "            try:\n",
    "                recv = self.udp.recv(8192)\n",
    "                self.decode(recv)\n",
    "                return True\n",
    "            except Exception as e:\n",
    "                if not e.args[0] == 11:\n",
    "                    print(e)\n",
    "                    raise e\n",
    "\n",
    "\n",
    "class Controller(ESP):\n",
    "    def add_control_set(self, lis):\n",
    "        self.encode_list.append(lis)\n",
    "    def add_recv_set(self,lis):\n",
    "        self.decode_list.append(lis)\n",
    "\n",
    "    def 延迟(self):\n",
    "        self.num\n",
    "\n",
    "    def 丢包率(self):\n",
    "        self.num"
   ]
  },
  {
   "cell_type": "code",
   "execution_count": null,
   "id": "458018e7-3965-4849-b3c5-070ea09650dc",
   "metadata": {},
   "outputs": [],
   "source": []
  },
  {
   "cell_type": "code",
   "execution_count": 2,
   "id": "1aa2dd47-1012-426b-b221-01e7ecebfd4a",
   "metadata": {},
   "outputs": [
    {
     "data": {
      "text/plain": [
       "'192.168.160.2'"
      ]
     },
     "execution_count": 2,
     "metadata": {},
     "output_type": "execute_result"
    }
   ],
   "source": [
    "bind=socket.gethostbyname_ex(socket.gethostname())[-1][-1]\n",
    "bind"
   ]
  },
  {
   "cell_type": "code",
   "execution_count": 3,
   "id": "4bb57c16-704f-40b4-b824-4be8357b93cf",
   "metadata": {},
   "outputs": [],
   "source": [
    "esp=Controller(\"0.0.0.0\")"
   ]
  },
  {
   "cell_type": "code",
   "execution_count": 4,
   "id": "9142647c-a296-43c6-8d43-7627f6bd307d",
   "metadata": {},
   "outputs": [
    {
     "data": {
      "text/plain": [
       "('0.0.0.0', 8080)"
      ]
     },
     "execution_count": 4,
     "metadata": {},
     "output_type": "execute_result"
    }
   ],
   "source": [
    "esp.place,esp.remote_port"
   ]
  },
  {
   "cell_type": "code",
   "execution_count": 5,
   "id": "6d7242f9-fbae-46a5-beaa-fa1d0a71a36c",
   "metadata": {},
   "outputs": [],
   "source": [
    "esp()"
   ]
  },
  {
   "cell_type": "code",
   "execution_count": 6,
   "id": "64ee8723-fc0d-4eae-bc14-d56017afaa05",
   "metadata": {},
   "outputs": [
    {
     "ename": "SyntaxError",
     "evalue": "'break' outside loop (668683560.py, line 4)",
     "output_type": "error",
     "traceback": [
      "\u001b[0;36m  File \u001b[0;32m\"/tmp/ipykernel_925/668683560.py\"\u001b[0;36m, line \u001b[0;32m4\u001b[0m\n\u001b[0;31mSyntaxError\u001b[0m\u001b[0;31m:\u001b[0m 'break' outside loop\n"
     ]
    }
   ],
   "source": [
    "break"
   ]
  },
  {
   "cell_type": "raw",
   "id": "1419ffe4-4eaa-45a4-b5eb-f37036ee260b",
   "metadata": {},
   "source": [
    "esp.decode_list.pop(-1)"
   ]
  },
  {
   "cell_type": "code",
   "execution_count": null,
   "id": "64e25abd-ed0e-4948-b04b-27ff2967a343",
   "metadata": {},
   "outputs": [],
   "source": []
  },
  {
   "cell_type": "code",
   "execution_count": 7,
   "id": "b77998db-f409-4bbf-abf0-65293df2d2eb",
   "metadata": {},
   "outputs": [],
   "source": [
    "esp.add_recv_set([\"6I\", \"C\"])"
   ]
  },
  {
   "cell_type": "code",
   "execution_count": null,
   "id": "c314feef-1310-4190-b926-07e6f16470a6",
   "metadata": {},
   "outputs": [],
   "source": []
  },
  {
   "cell_type": "code",
   "execution_count": 8,
   "id": "ccd0e257-5a59-4aad-abff-ebf001f5ba3a",
   "metadata": {},
   "outputs": [],
   "source": [
    "%run from_empyty_list.ipynb"
   ]
  },
  {
   "cell_type": "code",
   "execution_count": 9,
   "id": "c07129df-acd4-48a8-8f35-e4e6104b175b",
   "metadata": {},
   "outputs": [
    {
     "data": {
      "text/plain": [
       "([], 0)"
      ]
     },
     "execution_count": 9,
     "metadata": {},
     "output_type": "execute_result"
    }
   ],
   "source": [
    "esp.C=C\n",
    "C.li,C.now_num"
   ]
  },
  {
   "cell_type": "code",
   "execution_count": 10,
   "id": "c499b198-88a8-48a5-bd2c-77c7911437e3",
   "metadata": {},
   "outputs": [],
   "source": [
    "for i in range(100):esp()"
   ]
  },
  {
   "cell_type": "code",
   "execution_count": 11,
   "id": "dad240f3-db4f-4a7c-bec5-6c30828bae6a",
   "metadata": {},
   "outputs": [
    {
     "data": {
      "text/plain": [
       "[3507,\n",
       " 2935,\n",
       " 2181,\n",
       " 3662,\n",
       " 143,\n",
       " 1287,\n",
       " 955,\n",
       " 1963,\n",
       " 426,\n",
       " 3373,\n",
       " 1128,\n",
       " 3945,\n",
       " 761,\n",
       " 135,\n",
       " 3462,\n",
       " 2168,\n",
       " 676,\n",
       " 1545,\n",
       " 2390,\n",
       " 3055,\n",
       " 477,\n",
       " 383,\n",
       " 3104,\n",
       " 645,\n",
       " 3495,\n",
       " 316,\n",
       " 2451,\n",
       " 1220,\n",
       " 2714,\n",
       " 3457,\n",
       " 1717,\n",
       " 3937,\n",
       " 1803,\n",
       " 1232,\n",
       " 1535,\n",
       " 4,\n",
       " 1977,\n",
       " 3161,\n",
       " 2791,\n",
       " 363,\n",
       " 3663,\n",
       " 1110,\n",
       " 3136,\n",
       " 377,\n",
       " 1352,\n",
       " 744,\n",
       " 3796,\n",
       " 3123,\n",
       " 3755,\n",
       " 3711,\n",
       " 1179,\n",
       " 2011,\n",
       " 3847,\n",
       " 1147,\n",
       " 710,\n",
       " 3723,\n",
       " 929,\n",
       " 807,\n",
       " 3849,\n",
       " 3726,\n",
       " 1592,\n",
       " 668,\n",
       " 2839,\n",
       " 4076,\n",
       " 1814,\n",
       " 2760,\n",
       " 214,\n",
       " 2329,\n",
       " 2168,\n",
       " 2553,\n",
       " 1631,\n",
       " 1579,\n",
       " 3493,\n",
       " 3630,\n",
       " 1257,\n",
       " 1179,\n",
       " 1195,\n",
       " 1645,\n",
       " 446,\n",
       " 599,\n",
       " 4084,\n",
       " 1420,\n",
       " 77,\n",
       " 3660,\n",
       " 712,\n",
       " 1261,\n",
       " 2988,\n",
       " 37,\n",
       " 778,\n",
       " 2473,\n",
       " 2337,\n",
       " 2937,\n",
       " 3768,\n",
       " 3932,\n",
       " 412,\n",
       " 2572]"
      ]
     },
     "execution_count": 11,
     "metadata": {},
     "output_type": "execute_result"
    }
   ],
   "source": [
    "C.li[:-3]"
   ]
  },
  {
   "cell_type": "code",
   "execution_count": 12,
   "id": "beeb039e-2c16-4c35-8f19-9d9d6c9ee161",
   "metadata": {},
   "outputs": [],
   "source": [
    "x=[3507, 2935, 2181, 3662, 143, 1287, 955, 1963, 426, 3373, 1128, 3945, 761, 135, 3462, 2168, 676, 1545, 2390, 3055, 477, 383, 3104, 645, 3495, 316, 2451, 1220, 2714, 3457, 1717, 3937, 1803, 1232, 1535, 4, 1977, 3161, 2791, 363, 3663, 1110, 3136, 377, 1352, 744, 3796, 3123, 3755, 3711, 1179, 2011, 3847, 1147, 710, 3723, 929, 807, 3849, 3726, 1592, 668, 2839, 4076, 1814, 2760, 214, 2329, 2168, 2553, 1631, 1579, 3493, 3630, 1257, 1179, 1195, 1645, 446, 599, 4084, 1420, 77, 3660, 712, 1261, 2988, 37, 778, 2473, 2337, 2937, 3768, 3932, 412, 2572]"
   ]
  },
  {
   "cell_type": "code",
   "execution_count": 13,
   "id": "c97203b9-8055-4d1e-89ee-c69affca1775",
   "metadata": {},
   "outputs": [
    {
     "data": {
      "text/plain": [
       "True"
      ]
     },
     "execution_count": 13,
     "metadata": {},
     "output_type": "execute_result"
    }
   ],
   "source": [
    "x==C.li[:-3]"
   ]
  },
  {
   "cell_type": "code",
   "execution_count": 14,
   "id": "c256c94b-c356-4a13-a303-6954ddffcd0b",
   "metadata": {},
   "outputs": [
    {
     "data": {
      "text/plain": [
       "{}"
      ]
     },
     "execution_count": 14,
     "metadata": {},
     "output_type": "execute_result"
    }
   ],
   "source": [
    "C.waiting"
   ]
  },
  {
   "cell_type": "code",
   "execution_count": null,
   "id": "e641b652-13a6-4707-bc3b-8cfc50d12d8d",
   "metadata": {},
   "outputs": [],
   "source": []
  }
 ],
 "metadata": {
  "kernelspec": {
   "display_name": "Python 3 (ipykernel)",
   "language": "python",
   "name": "python3"
  },
  "language_info": {
   "codemirror_mode": {
    "name": "ipython",
    "version": 3
   },
   "file_extension": ".py",
   "mimetype": "text/x-python",
   "name": "python",
   "nbconvert_exporter": "python",
   "pygments_lexer": "ipython3",
   "version": "3.7.3"
  }
 },
 "nbformat": 4,
 "nbformat_minor": 5
}
