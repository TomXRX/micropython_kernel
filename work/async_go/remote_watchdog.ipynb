{
 "cells": [
  {
   "cell_type": "code",
   "execution_count": 1,
   "id": "bbd532a4-73d8-4346-9785-bbbb350a77da",
   "metadata": {},
   "outputs": [
    {
     "name": "stdout",
     "output_type": "stream",
     "text": [
      "from r_watchdog import *\n"
     ]
    }
   ],
   "source": [
    "from r_watchdog import *"
   ]
  },
  {
   "cell_type": "code",
   "execution_count": null,
   "id": "13ec0b18-7792-4dd3-9a12-9754aafe10a7",
   "metadata": {},
   "outputs": [],
   "source": []
  },
  {
   "cell_type": "code",
   "execution_count": 2,
   "id": "de136b15-0393-4335-866c-d467c5c98953",
   "metadata": {},
   "outputs": [
    {
     "name": "stdout",
     "output_type": "stream",
     "text": [
      "w=Watch(foo)\n"
     ]
    }
   ],
   "source": [
    "w=Watch(foo)"
   ]
  },
  {
   "cell_type": "code",
   "execution_count": 3,
   "id": "9e99fe01-e7fe-4e98-b6f8-67faaadf7818",
   "metadata": {},
   "outputs": [
    {
     "name": "stdout",
     "output_type": "stream",
     "text": [
      "loop=asyncio.get_event_loop()\n"
     ]
    }
   ],
   "source": [
    "loop=asyncio.get_event_loop()"
   ]
  },
  {
   "cell_type": "code",
   "execution_count": 4,
   "id": "267390b9-342c-43e0-b0ba-3809da46e911",
   "metadata": {},
   "outputs": [
    {
     "name": "stdout",
     "output_type": "stream",
     "text": [
      "f=loop.create_task(C.dummy())\n"
     ]
    }
   ],
   "source": [
    "f=loop.create_task(C.dummy())"
   ]
  },
  {
   "cell_type": "code",
   "execution_count": 5,
   "id": "60ff5329-eabd-4232-aa79-985daccc3217",
   "metadata": {},
   "outputs": [
    {
     "name": "stdout",
     "output_type": "stream",
     "text": [
      "ff=loop.create_task(w.foo())\n"
     ]
    }
   ],
   "source": [
    "ff=loop.create_task(w.foo())"
   ]
  },
  {
   "cell_type": "code",
   "execution_count": null,
   "id": "eb13917d-7d4a-4b24-8b9c-333e2c5238fa",
   "metadata": {},
   "outputs": [],
   "source": []
  },
  {
   "cell_type": "code",
   "execution_count": 6,
   "id": "cebaf1b3-3894-4902-8e99-174da3c8671a",
   "metadata": {},
   "outputs": [
    {
     "name": "stdout",
     "output_type": "stream",
     "text": [
      "C.last_call=10\n"
     ]
    }
   ],
   "source": [
    "C.last_call=10"
   ]
  },
  {
   "cell_type": "code",
   "execution_count": 7,
   "id": "56d5bd3d-ce67-418f-96e0-71e0e7037d50",
   "metadata": {},
   "outputs": [
    {
     "name": "stdout",
     "output_type": "stream",
     "text": [
      "C.last_call\n",
      "10\n"
     ]
    }
   ],
   "source": [
    "C.last_call"
   ]
  },
  {
   "cell_type": "code",
   "execution_count": 8,
   "id": "8162026f-840c-4d8f-a013-34c4de900666",
   "metadata": {},
   "outputs": [],
   "source": [
    "loop.run_forever()"
   ]
  },
  {
   "cell_type": "code",
   "execution_count": 9,
   "id": "77fa65eb-5d4c-4aa1-9c8f-0e094ebf0aa8",
   "metadata": {},
   "outputs": [
    {
     "name": "stdout",
     "output_type": "stream",
     "text": [
      "C.last_call\n",
      "2\n"
     ]
    }
   ],
   "source": [
    "C.last_call"
   ]
  },
  {
   "cell_type": "code",
   "execution_count": 10,
   "id": "f39b9171-f2df-431d-a3d1-0181fa0f1277",
   "metadata": {},
   "outputs": [
    {
     "name": "stdout",
     "output_type": "stream",
     "text": [
      "print(\"x\")\n",
      "x\n"
     ]
    }
   ],
   "source": [
    "print(\"x\")"
   ]
  },
  {
   "cell_type": "code",
   "execution_count": 11,
   "id": "05a74d23-c2ac-48d5-9840-31e2c083f370",
   "metadata": {},
   "outputs": [
    {
     "name": "stdout",
     "output_type": "stream",
     "text": [
      "w.last\n",
      "True\n"
     ]
    }
   ],
   "source": [
    "w.last"
   ]
  },
  {
   "cell_type": "code",
   "execution_count": 12,
   "id": "9721e2b2-8b1f-4899-9fb5-516d5e5442a2",
   "metadata": {},
   "outputs": [
    {
     "name": "stdout",
     "output_type": "stream",
     "text": [
      "loop.__dict__\n",
      "{'_exc_handler': None, 'stop': <function stop at 0x7f227a392bc0>, '__qualname__': 'Loop', '__module__': 'uasyncio.core', 'get_exception_handler': <function get_exception_handler at 0x7f227a392e60>, 'run_forever': <function run_forever at 0x7f227a3929e0>, 'default_exception_handler': <function default_exception_handler at 0x7f227a392ea0>, 'create_task': <function create_task at 0x7f227a3929a0>, 'set_exception_handler': <function set_exception_handler at 0x7f227a392ee0>, 'close': <function close at 0x7f227a392aa0>, 'call_exception_handler': <function call_exception_handler at 0x7f227a392f20>, 'run_until_complete': <function run_until_complete at 0x7f227a392960>}\n"
     ]
    }
   ],
   "source": [
    "loop.__dict__"
   ]
  },
  {
   "cell_type": "code",
   "execution_count": 13,
   "id": "abca3cf1-97bd-47a4-a7b1-4d0c7990e0ef",
   "metadata": {},
   "outputs": [
    {
     "name": "stdout",
     "output_type": "stream",
     "text": [
      "#print error\n"
     ]
    }
   ],
   "source": [
    "#not printing"
   ]
  },
  {
   "cell_type": "code",
   "execution_count": null,
   "id": "8999d703-2865-4a53-9a7a-cccaec5411c9",
   "metadata": {},
   "outputs": [],
   "source": []
  }
 ],
 "metadata": {
  "kernelspec": {
   "display_name": "Micropython",
   "language": "python",
   "name": "micropython"
  },
  "language_info": {
   "codemirror_mode": "python",
   "file_extension": ".py",
   "mimetype": "text/x-python",
   "name": "micropython_bash"
  }
 },
 "nbformat": 4,
 "nbformat_minor": 5
}
