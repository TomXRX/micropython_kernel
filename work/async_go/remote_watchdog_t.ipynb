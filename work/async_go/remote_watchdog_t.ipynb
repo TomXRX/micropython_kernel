{
 "cells": [
  {
   "cell_type": "code",
   "execution_count": 1,
   "id": "c96ebb33-e633-4994-8caf-090b1b1c97d6",
   "metadata": {},
   "outputs": [],
   "source": [
    "import asyncio\n",
    "# from functools import wraps\n",
    "\n",
    "def go_loop(t=0.001):\n",
    "    def wrapper(func):\n",
    "        # @wraps(func)\n",
    "        async def wrapped(*args, **kwargs):\n",
    "            while 1:\n",
    "                await asyncio.sleep(t)\n",
    "                ret=await func(*args, **kwargs)\n",
    "                if ret:break\n",
    "            return\n",
    "        return wrapped\n",
    "    return wrapper\n",
    "\n",
    "def to_pop(li):\n",
    "    def poper(ret_len=5):\n",
    "        p=li[:ret_len]\n",
    "        li.pop(0)\n",
    "        return p\n",
    "    return poper\n",
    "\n",
    "def add_num(func):\n",
    "    num=-1\n",
    "    def go_num():\n",
    "        nonlocal num\n",
    "        num+=1\n",
    "        # r=num,*func()\n",
    "        # incompatible\n",
    "        r=[num]\n",
    "        r.extend(func())\n",
    "        return r\n",
    "    return go_num\n",
    "\n",
    "class Buff(list):\n",
    "    def __init__(self, iterable=(),maxlen=128):\n",
    "        self.maxlen=maxlen\n",
    "        assert len(iterable)<=maxlen\n",
    "        super().__init__(iterable)\n",
    "    def extend(self):\n",
    "        raise NotImplementedError\n",
    "    \n",
    "    def append(self, item):\n",
    "        if len(self)>=self.maxlen:\n",
    "            self.pop(0)\n",
    "        super().append(item)"
   ]
  },
  {
   "cell_type": "code",
   "execution_count": null,
   "id": "6a0b4e72-10f6-4cf6-9a45-bac705e9074b",
   "metadata": {},
   "outputs": [],
   "source": []
  },
  {
   "cell_type": "code",
   "execution_count": 2,
   "id": "4318f593-93ac-4df3-b6b9-6d193ee7dd9f",
   "metadata": {},
   "outputs": [],
   "source": [
    "class Call:\n",
    "    last_call=0\n",
    "    \n",
    "    @go_loop(0.1)\n",
    "    async def dummy(self):\n",
    "        if self.last_call>0:self.last_call-=1\n",
    "C=Call()"
   ]
  },
  {
   "cell_type": "code",
   "execution_count": 3,
   "id": "68d33c4c-a35b-4cc8-b90b-c86acdcfd419",
   "metadata": {},
   "outputs": [],
   "source": [
    "f=asyncio.create_task(C.dummy())"
   ]
  },
  {
   "cell_type": "code",
   "execution_count": 4,
   "id": "47d32ee1-0c53-40a6-9fa7-485ba09fca8c",
   "metadata": {},
   "outputs": [],
   "source": [
    "def foo():\n",
    "    return getattr(C,\"last_call\")\n",
    "\n",
    "class Watch:    \n",
    "    def __init__(self,watch_func):\n",
    "        self.last=False\n",
    "        self.watch_func=watch_func\n",
    "    \n",
    "    @go_loop(0.1)\n",
    "    async def foo(self):\n",
    "        if self.watch_func()<=0:\n",
    "            if self.last:\n",
    "                print(\"do_stuff\")\n",
    "                self.last=False\n",
    "        else:self.last=True\n",
    "        "
   ]
  },
  {
   "cell_type": "code",
   "execution_count": 11,
   "id": "7c25fec5-dcfd-4564-be16-2672a1c40817",
   "metadata": {},
   "outputs": [
    {
     "data": {
      "text/plain": [
       "10"
      ]
     },
     "execution_count": 11,
     "metadata": {},
     "output_type": "execute_result"
    },
    {
     "name": "stdout",
     "output_type": "stream",
     "text": [
      "do_stuff\n"
     ]
    }
   ],
   "source": [
    "C.last_call=10\n",
    "C.last_call"
   ]
  },
  {
   "cell_type": "code",
   "execution_count": 6,
   "id": "15330da2-6ad5-44cf-a990-e0e38d5bfcbe",
   "metadata": {},
   "outputs": [
    {
     "data": {
      "text/plain": [
       "10"
      ]
     },
     "execution_count": 6,
     "metadata": {},
     "output_type": "execute_result"
    }
   ],
   "source": [
    "C.last_call"
   ]
  },
  {
   "cell_type": "code",
   "execution_count": 7,
   "id": "28796faa-3c29-4b18-8698-e9f3b01e4c09",
   "metadata": {},
   "outputs": [],
   "source": [
    "w=Watch(foo)"
   ]
  },
  {
   "cell_type": "code",
   "execution_count": 8,
   "id": "21832201-5086-45d9-9970-9c844446707e",
   "metadata": {},
   "outputs": [],
   "source": [
    "ff=asyncio.create_task(w.foo())"
   ]
  },
  {
   "cell_type": "code",
   "execution_count": 9,
   "id": "4f3bf3a7-1a2d-4e96-aba5-a6938c6897de",
   "metadata": {},
   "outputs": [
    {
     "data": {
      "text/plain": [
       "<Task pending coro=<go_loop.<locals>.wrapper.<locals>.wrapped() running at /tmp/ipykernel_355/4206279789.py:7>>"
      ]
     },
     "execution_count": 9,
     "metadata": {},
     "output_type": "execute_result"
    }
   ],
   "source": [
    "ff"
   ]
  },
  {
   "cell_type": "code",
   "execution_count": 10,
   "id": "b8c1ff4d-4aec-49b7-b961-bc2f65f0d478",
   "metadata": {},
   "outputs": [
    {
     "data": {
      "text/plain": [
       "<function Task.exception()>"
      ]
     },
     "execution_count": 10,
     "metadata": {},
     "output_type": "execute_result"
    }
   ],
   "source": [
    "ff.exception"
   ]
  }
 ],
 "metadata": {
  "kernelspec": {
   "display_name": "Python 3 (ipykernel)",
   "language": "python",
   "name": "python3"
  },
  "language_info": {
   "codemirror_mode": {
    "name": "ipython",
    "version": 3
   },
   "file_extension": ".py",
   "mimetype": "text/x-python",
   "name": "python",
   "nbconvert_exporter": "python",
   "pygments_lexer": "ipython3",
   "version": "3.7.3"
  }
 },
 "nbformat": 4,
 "nbformat_minor": 5
}
