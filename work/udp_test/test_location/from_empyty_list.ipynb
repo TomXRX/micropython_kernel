{
 "cells": [
  {
   "cell_type": "code",
   "execution_count": 1,
   "id": "aa90aefd-5ac2-42af-b73e-72bc8018891c",
   "metadata": {},
   "outputs": [],
   "source": [
    "class NumBuff(list):\n",
    "    def __init__(self, iterable=(),maxlen=128):\n",
    "        self.maxlen=maxlen\n",
    "        assert len(iterable)<=maxlen\n",
    "        super().__init__(iterable)\n",
    "        self.num=0\n",
    "        #start_point_num\n",
    "        \n",
    "    def extend(self):\n",
    "        raise NotImplementedError\n",
    "    \n",
    "    def keep_len(self):\n",
    "        for _ in range(len(self)-self.maxlen):\n",
    "            if len(self)>self.maxlen:\n",
    "                self.pop(0)\n",
    "                self.num+=1\n",
    "    \n",
    "    def append(self, item):\n",
    "        self.keep_len()\n",
    "        super().append(item)"
   ]
  },
  {
   "cell_type": "code",
   "execution_count": 2,
   "id": "6844bed8-e230-4e83-a667-6bb14fa82f12",
   "metadata": {},
   "outputs": [],
   "source": [
    "class NumDecoder:\n",
    "    def __init__(self):\n",
    "        self.li=NumBuff(maxlen=12)\n",
    "        #just for test\n",
    "        self.old_li=[]\n",
    "        \n",
    "        self.waiting={}\n",
    "        self.now_num=0\n",
    "        #end_point_num\n",
    "        \n",
    "        self.get_len=10\n",
    "        \n",
    "    def to_get_len(self):\n",
    "        i=self.waiting.items()\n",
    "        if not len(i):return False\n",
    "        i=i[0]\n",
    "        self.get_len=len(i)-1\n",
    "        return True\n",
    "    \n",
    "    def recycle(self):\n",
    "        for key in list(self.waiting.keys()):\n",
    "            if self.now_num-key>self.get_len*2:\n",
    "                self.waiting.pop(key)\n",
    "    \n",
    "    def new_li(self,num):\n",
    "        self.now_num=num\n",
    "        self.old_li=self.li\n",
    "        self.li=NumBuff()\n",
    "        self.li.num=num\n",
    "        self.waiting={}\n",
    "    \n",
    "    def __call__(self,num,*things):\n",
    "        self.recycle()\n",
    "        \n",
    "        if len(self.li)==0:\n",
    "            self.new_li(num)\n",
    "        \n",
    "        \n",
    "        #must have looped\n",
    "        if self.now_num-num>1024:\n",
    "            self.new_li(num)\n",
    "            #just, drop it.\n",
    "            #think about it later\n",
    "        \n",
    "        self.waiting[num]=things\n",
    "        self.transfer_waiting()\n",
    "        \n",
    "    @property\n",
    "    def max_num(self):\n",
    "        return len(self.li)+self.li.num\n",
    "    \n",
    "    def transfer_waiting(self):\n",
    "        \n",
    "        nums=self.waiting.keys()\n",
    "        nums=[i for i in nums if i<=self.max_num]\n",
    "        \n",
    "        for num in nums:\n",
    "            things=self.waiting[num]\n",
    "            index=num-self.li.num\n",
    "            if index<0:continue\n",
    "            self.li[index:]=things\n",
    "            self.waiting.pop(num)\n",
    "            \n",
    "        \n",
    "        self.li.keep_len()\n",
    "        \n",
    "        self.now_num=self.max_num\n",
    "      "
   ]
  },
  {
   "cell_type": "code",
   "execution_count": null,
   "id": "e62dea6d-7575-4212-8460-c33623b41b29",
   "metadata": {},
   "outputs": [],
   "source": []
  },
  {
   "cell_type": "code",
   "execution_count": 3,
   "id": "7679e628-e448-493c-be31-f8b88280cfd7",
   "metadata": {},
   "outputs": [],
   "source": [
    "C=NumDecoder()"
   ]
  },
  {
   "cell_type": "code",
   "execution_count": 4,
   "id": "687b2330-fbae-4070-9ea9-143ea7212fee",
   "metadata": {},
   "outputs": [
    {
     "data": {
      "text/plain": [
       "[]"
      ]
     },
     "execution_count": 4,
     "metadata": {},
     "output_type": "execute_result"
    }
   ],
   "source": [
    "C.li"
   ]
  },
  {
   "cell_type": "raw",
   "id": "9e6fb28b-6da5-4356-a00f-a27515bac052",
   "metadata": {},
   "source": [
    "C(10,955,1963,426,3373,1128)"
   ]
  },
  {
   "cell_type": "raw",
   "id": "83c660d6-db4d-4836-a01b-677e4088508e",
   "metadata": {},
   "source": [
    "C.li"
   ]
  },
  {
   "cell_type": "raw",
   "id": "c1b737d7-cd26-4f79-8db4-beadc3de041d",
   "metadata": {},
   "source": [
    "C.now_num,C.waiting"
   ]
  },
  {
   "cell_type": "raw",
   "id": "b74dc136-d56e-464a-8b7a-6ebe9dae1b1b",
   "metadata": {},
   "source": [
    "C(11,1963,426,3373,1128,3945)"
   ]
  },
  {
   "cell_type": "raw",
   "id": "93b172db-25d3-4c32-8cec-5bc426be6e30",
   "metadata": {},
   "source": [
    "C.waiting"
   ]
  },
  {
   "cell_type": "raw",
   "id": "b4559aac-8134-4497-ade8-74b4b8615c4f",
   "metadata": {},
   "source": [
    "C.max_num"
   ]
  },
  {
   "cell_type": "code",
   "execution_count": null,
   "id": "2cdc9cde-7854-463c-8f95-125f89337b0d",
   "metadata": {},
   "outputs": [],
   "source": []
  },
  {
   "cell_type": "code",
   "execution_count": null,
   "id": "70bd676c-16c1-410b-96fd-ac64eb6baa32",
   "metadata": {},
   "outputs": [],
   "source": []
  }
 ],
 "metadata": {
  "kernelspec": {
   "display_name": "Python 3 (ipykernel)",
   "language": "python",
   "name": "python3"
  },
  "language_info": {
   "codemirror_mode": {
    "name": "ipython",
    "version": 3
   },
   "file_extension": ".py",
   "mimetype": "text/x-python",
   "name": "python",
   "nbconvert_exporter": "python",
   "pygments_lexer": "ipython3",
   "version": "3.7.3"
  }
 },
 "nbformat": 4,
 "nbformat_minor": 5
}
