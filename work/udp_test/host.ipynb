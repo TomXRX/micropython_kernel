{
 "cells": [
  {
   "cell_type": "code",
   "execution_count": 1,
   "id": "209c4f9d-ac14-4bdb-aed4-164243656552",
   "metadata": {},
   "outputs": [],
   "source": [
    "import socket,time\n",
    "import struct\n",
    "def spliter(format,buffer):\n",
    "    data=buffer[:struct.calcsize(format)]\n",
    "    buffer=buffer[struct.calcsize(format):]\n",
    "    ret=struct.unpack(format,data)\n",
    "    if len(ret)==1:ret=ret[0]\n",
    "    return ret,buffer\n",
    "\n",
    "from collections import deque\n",
    "class ESP:\n",
    "    \"\"\"make udp connections\"\"\"\n",
    "    def __init__(self,place,self_port=9999,remote_port=8080,max_rate=1000,low_rate=100,save=10):\n",
    "        if type(place)==int:\n",
    "            place=str(place)\n",
    "            place=\"192.168.1.\" + place\n",
    "        self.place=place\n",
    "        self.self_port=self_port\n",
    "        self.remote_port = remote_port\n",
    "        self.self_port=self_port\n",
    "        self.udp = socket.socket(socket.AF_INET, socket.SOCK_DGRAM)\n",
    "        self.udp.setblocking(False)\n",
    "        self.max_rate=max_rate\n",
    "        self.low_rate=low_rate\n",
    "\n",
    "        self.connect()\n",
    "\n",
    "        self.encode_list = []\n",
    "        self.decode_list = []\n",
    "        self.encode_list.append([\"I\", \"get_num\"])\n",
    "\n",
    "        self.decode_list.append([\"I\", \"to_num\"])\n",
    "        self.decode_list.append([\"b\", \"get_rssi\"])\n",
    "\n",
    "        self.mode = 0\n",
    "\n",
    "        # self.save=save\n",
    "        self.save_num=0\n",
    "\n",
    "    last_value=b\"\"\n",
    "    def send(self,buf):\n",
    "        num,buffer=spliter(\"I\",buf)\n",
    "        if self.last_value!=buffer:\n",
    "            self.save_num=num\n",
    "            self.send_(buf)\n",
    "        else:\n",
    "            if not self.save_num<self.to_num:\n",
    "                self.send_(buf)\n",
    "            elif self.get_interval() > 60 / self.low_rate:self.send_(buf)\n",
    "\n",
    "        self.last_value=buffer\n",
    "\n",
    "    def send_(self,buffer):\n",
    "        self.udp.send(buffer)\n",
    "        self.last_get = time.perf_counter()\n",
    "\n",
    "    def connect(self):\n",
    "        n = socket.gethostname()\n",
    "        bind=socket.gethostbyname_ex(n)[-1][-1]\n",
    "        self.udp.bind((bind,self.self_port))\n",
    "        self.udp.connect((self.place,self.remote_port))\n",
    "        \n",
    "        \n",
    "    last_get=None\n",
    "    def get_interval(self):\n",
    "        if self.last_get is None:\n",
    "            self.last_get=time.perf_counter()\n",
    "            return\n",
    "        ret=time.perf_counter()-self.last_get\n",
    "        return ret\n",
    "\n",
    "    num = 0\n",
    "    def get_num(self):\n",
    "        self.num += 1\n",
    "        return self.num\n",
    "    \n",
    "    last=0\n",
    "    def last_recv(self,check=True,wait=5):\n",
    "        #检查是否是同一个连接\n",
    "        if check:\n",
    "            return self.get_time() - self.last < wait\n",
    "        else:self.last=self.get_time()\n",
    "    \n",
    "    def get_time(self):return time.perf_counter()\n",
    "\n",
    "    to_num=0\n",
    "    def decode(self, buffer):\n",
    "        self.last_recv(0)\n",
    "#         print(buffer)\n",
    "        for form, name in self.decode_list:\n",
    "            data, buffer = spliter(form, buffer)\n",
    "\n",
    "            if name==\"to_num\":\n",
    "                if self.to_num>data and self.last_recv():break\n",
    "            \n",
    "            if (not name in self.__dict__) or not callable(self.__dict__[name]):\n",
    "                self.__dict__[name] = data\n",
    "            elif hasattr(self, name):\n",
    "                if type(data)==tuple:\n",
    "                    getattr(self, name)(*data)\n",
    "                else:getattr(self, name)(data)\n",
    "\n",
    "    def encode(self):\n",
    "        buffer = b\"\"\n",
    "        for form, name in self.encode_list:\n",
    "            if name in self.__dict__ and not callable(self.__dict__[name]):\n",
    "                data = self.__dict__[name]\n",
    "            elif hasattr(self,name):\n",
    "                data = getattr(self,name)()\n",
    "            if type(data) in [tuple,list]:buffer += struct.pack(form, *data)\n",
    "            else:buffer += struct.pack(form, data)\n",
    "        return buffer\n",
    "\n",
    "    def __call__(self, *args, **kwargs):\n",
    "        g=self.get_interval()\n",
    "        if g is None or g>60/self.max_rate:\n",
    "            self.send(self.encode())\n",
    "        if True:\n",
    "            try:\n",
    "                recv = self.udp.recv(8192)\n",
    "                self.decode(recv)\n",
    "                return True\n",
    "            except Exception as e:\n",
    "                if not e.args[0] == 11:\n",
    "                    print(e)\n",
    "                    raise e\n",
    "\n",
    "\n",
    "class Controller(ESP):\n",
    "    def add_control_set(self, lis):\n",
    "        self.encode_list.append(lis)\n",
    "    def add_recv_set(self,lis):\n",
    "        self.decode_list.append(lis)\n",
    "\n",
    "    def 延迟(self):\n",
    "        self.num\n",
    "\n",
    "    def 丢包率(self):\n",
    "        self.num"
   ]
  },
  {
   "cell_type": "code",
   "execution_count": null,
   "id": "31ff07df-ebff-4102-b0ee-84fd3b19e504",
   "metadata": {},
   "outputs": [],
   "source": []
  },
  {
   "cell_type": "code",
   "execution_count": 4,
   "id": "f58dae43-315f-4694-97be-3bc88272f0cb",
   "metadata": {},
   "outputs": [
    {
     "data": {
      "text/plain": [
       "'192.168.32.2'"
      ]
     },
     "execution_count": 4,
     "metadata": {},
     "output_type": "execute_result"
    }
   ],
   "source": [
    "bind=socket.gethostbyname_ex(socket.gethostname())[-1][-1]\n",
    "bind"
   ]
  },
  {
   "cell_type": "code",
   "execution_count": 5,
   "id": "53fbfd2f-3f04-44d6-bcb8-378ac7a37cda",
   "metadata": {},
   "outputs": [],
   "source": [
    "esp=ESP(\"0.0.0.0\")"
   ]
  },
  {
   "cell_type": "code",
   "execution_count": 6,
   "id": "ba24ad04-340d-4da4-8725-8f0cb5824dd8",
   "metadata": {},
   "outputs": [
    {
     "data": {
      "text/plain": [
       "('0.0.0.0', 8080)"
      ]
     },
     "execution_count": 6,
     "metadata": {},
     "output_type": "execute_result"
    }
   ],
   "source": [
    "esp.place,esp.remote_port"
   ]
  },
  {
   "cell_type": "code",
   "execution_count": 13,
   "id": "50e28411-a299-4e27-b5af-1aeb392e5a17",
   "metadata": {},
   "outputs": [],
   "source": [
    "get=esp()\n",
    "get"
   ]
  },
  {
   "cell_type": "code",
   "execution_count": 26,
   "id": "47e0098c-0681-482b-b48f-649efa31f6ed",
   "metadata": {},
   "outputs": [],
   "source": []
  },
  {
   "cell_type": "code",
   "execution_count": 27,
   "id": "c5fc9e19-f9a5-4102-9d20-4dde94362efb",
   "metadata": {},
   "outputs": [],
   "source": [
    "bu=Buff([1,2,3,4],4)"
   ]
  },
  {
   "cell_type": "code",
   "execution_count": 29,
   "id": "ccbdba1c-f175-4e73-923a-10a29f3318ab",
   "metadata": {},
   "outputs": [
    {
     "data": {
      "text/plain": [
       "[2, 3, 4, 5]"
      ]
     },
     "execution_count": 29,
     "metadata": {},
     "output_type": "execute_result"
    }
   ],
   "source": [
    "bu.append(5)\n",
    "bu"
   ]
  },
  {
   "cell_type": "code",
   "execution_count": null,
   "id": "df598f2f-8535-475b-9d11-605d1331e90b",
   "metadata": {},
   "outputs": [],
   "source": []
  },
  {
   "cell_type": "code",
   "execution_count": null,
   "id": "01fed8ad-bc11-4cc2-93ef-9f01655b4122",
   "metadata": {},
   "outputs": [],
   "source": []
  },
  {
   "cell_type": "code",
   "execution_count": 7,
   "id": "af9dc084-2429-4107-8b8a-6c6d9d93c7f4",
   "metadata": {},
   "outputs": [],
   "source": [
    "def to_pop(li):\n",
    "    def poper(ret_len=5):\n",
    "        p=li[:ret_len]\n",
    "        li.pop(0)\n",
    "        return p\n",
    "    return poper"
   ]
  },
  {
   "cell_type": "code",
   "execution_count": 8,
   "id": "684a8154-d561-4895-931b-f9e233584043",
   "metadata": {},
   "outputs": [],
   "source": [
    "x=to_pop([1,2,3,4,5])"
   ]
  },
  {
   "cell_type": "code",
   "execution_count": 14,
   "id": "55cccc98-b691-41e1-9b09-fc5c99c18000",
   "metadata": {},
   "outputs": [
    {
     "ename": "IndexError",
     "evalue": "pop from empty list",
     "output_type": "error",
     "traceback": [
      "\u001b[0;31m---------------------------------------------------------------------------\u001b[0m",
      "\u001b[0;31mIndexError\u001b[0m                                Traceback (most recent call last)",
      "\u001b[0;32m/tmp/ipykernel_31/2525686024.py\u001b[0m in \u001b[0;36m<module>\u001b[0;34m\u001b[0m\n\u001b[0;32m----> 1\u001b[0;31m \u001b[0mx\u001b[0m\u001b[0;34m(\u001b[0m\u001b[0;34m)\u001b[0m\u001b[0;34m\u001b[0m\u001b[0;34m\u001b[0m\u001b[0m\n\u001b[0m",
      "\u001b[0;32m/tmp/ipykernel_31/2704689899.py\u001b[0m in \u001b[0;36mpoper\u001b[0;34m()\u001b[0m\n\u001b[1;32m      2\u001b[0m     \u001b[0;32mdef\u001b[0m \u001b[0mpoper\u001b[0m\u001b[0;34m(\u001b[0m\u001b[0;34m)\u001b[0m\u001b[0;34m:\u001b[0m\u001b[0;34m\u001b[0m\u001b[0;34m\u001b[0m\u001b[0m\n\u001b[1;32m      3\u001b[0m         \u001b[0mp\u001b[0m\u001b[0;34m=\u001b[0m\u001b[0mli\u001b[0m\u001b[0;34m[\u001b[0m\u001b[0;34m:\u001b[0m\u001b[0;36m5\u001b[0m\u001b[0;34m]\u001b[0m\u001b[0;34m\u001b[0m\u001b[0;34m\u001b[0m\u001b[0m\n\u001b[0;32m----> 4\u001b[0;31m         \u001b[0mli\u001b[0m\u001b[0;34m.\u001b[0m\u001b[0mpop\u001b[0m\u001b[0;34m(\u001b[0m\u001b[0;36m0\u001b[0m\u001b[0;34m)\u001b[0m\u001b[0;34m\u001b[0m\u001b[0;34m\u001b[0m\u001b[0m\n\u001b[0m\u001b[1;32m      5\u001b[0m         \u001b[0;32mreturn\u001b[0m \u001b[0mp\u001b[0m\u001b[0;34m\u001b[0m\u001b[0;34m\u001b[0m\u001b[0m\n\u001b[1;32m      6\u001b[0m     \u001b[0;32mreturn\u001b[0m \u001b[0mpoper\u001b[0m\u001b[0;34m\u001b[0m\u001b[0;34m\u001b[0m\u001b[0m\n",
      "\u001b[0;31mIndexError\u001b[0m: pop from empty list"
     ]
    }
   ],
   "source": [
    "x()"
   ]
  },
  {
   "cell_type": "code",
   "execution_count": null,
   "id": "522346c7-9b12-472c-a518-55a46a81296a",
   "metadata": {},
   "outputs": [],
   "source": []
  }
 ],
 "metadata": {
  "kernelspec": {
   "display_name": "Python 3 (ipykernel)",
   "language": "python",
   "name": "python3"
  },
  "language_info": {
   "codemirror_mode": {
    "name": "ipython",
    "version": 3
   },
   "file_extension": ".py",
   "mimetype": "text/x-python",
   "name": "python",
   "nbconvert_exporter": "python",
   "pygments_lexer": "ipython3",
   "version": "3.7.3"
  }
 },
 "nbformat": 4,
 "nbformat_minor": 5
}
