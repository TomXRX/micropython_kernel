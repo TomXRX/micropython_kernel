{
 "cells": [
  {
   "cell_type": "code",
   "execution_count": null,
   "id": "a8867665-f97e-4d47-996d-a29566db0389",
   "metadata": {},
   "outputs": [],
   "source": [
    "/usr/local/bin/micropython-dev"
   ]
  },
  {
   "cell_type": "code",
   "execution_count": 1,
   "id": "f91fef5a-302c-4ebb-af27-801756b65d94",
   "metadata": {},
   "outputs": [
    {
     "data": {
      "text/plain": [
       "1"
      ]
     },
     "execution_count": 1,
     "metadata": {},
     "output_type": "execute_result"
    }
   ],
   "source": [
    "1"
   ]
  },
  {
   "cell_type": "code",
   "execution_count": null,
   "id": "f70e9e9e-0b53-4d7f-b737-807ece5ddbf5",
   "metadata": {},
   "outputs": [],
   "source": []
  }
 ],
 "metadata": {
  "kernelspec": {
   "display_name": "Bash",
   "language": "bash",
   "name": "bash"
  },
  "language_info": {
   "codemirror_mode": "shell",
   "file_extension": ".sh",
   "mimetype": "text/x-sh",
   "name": "bash"
  }
 },
 "nbformat": 4,
 "nbformat_minor": 5
}
