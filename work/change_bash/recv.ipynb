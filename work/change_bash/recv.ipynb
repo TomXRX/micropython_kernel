{
 "cells": [
  {
   "cell_type": "code",
   "execution_count": 1,
   "id": "685a508e-3588-4075-9f39-4ebee5740d5d",
   "metadata": {},
   "outputs": [],
   "source": [
    "import paho.mqtt.client as mqtt\n",
    "import time\n",
    "import paho.mqtt.publish as publish\n",
    "\n",
    "class Publisher:\n",
    "    def __init__(self,host=\"host.docker.internal\",port=1883):\n",
    "        self.client=self.client_start(host,port)\n",
    "        self.client.loop_start()\n",
    "        time.sleep(1)\n",
    "    \n",
    "    def client_start(self,host,port):\n",
    "        client = mqtt.Client(str(time.time()))\n",
    "        client.username_pw_set(\"tom\", \"xiao\")  # 必须设置，否则会返回「Connected with result code 4」\n",
    "        client.on_connect = self.on_connect\n",
    "        client.on_message = self.on_message\n",
    "        client.connect(host, port, 60)\n",
    "        # client.loop_forever()\n",
    "        return client\n",
    "\n",
    "    def on_connect(self,client, userdata, flags, rc):\n",
    "        print(\"Connected with result code \"+str(rc))\n",
    "        client.subscribe(\"code\")\n",
    "        \n",
    "    def __call__(self,*args):\n",
    "        self.publish(*args)\n",
    "        \n",
    "    def on_message(self,client, userdata, msg):\n",
    "        C=msg.payload.decode(\"utf-8\")\n",
    "        print(C)\n",
    "    "
   ]
  },
  {
   "cell_type": "code",
   "execution_count": 2,
   "id": "7220ad08-05e5-451e-a6f6-06d3d1b3b7be",
   "metadata": {},
   "outputs": [
    {
     "name": "stdout",
     "output_type": "stream",
     "text": [
      "Connected with result code 0\n",
      "f\n",
      "1\n",
      "that is done\n"
     ]
    }
   ],
   "source": [
    "C=Publisher()"
   ]
  },
  {
   "cell_type": "raw",
   "id": "31474bdd-783e-4f14-a971-d04519e03bf6",
   "metadata": {},
   "source": [
    "C.client.disconnect()"
   ]
  },
  {
   "cell_type": "code",
   "execution_count": null,
   "id": "36420f79-276c-4976-8e6e-ccb9cbca585e",
   "metadata": {},
   "outputs": [],
   "source": []
  }
 ],
 "metadata": {
  "kernelspec": {
   "display_name": "Python 3 (ipykernel)",
   "language": "python",
   "name": "python3"
  },
  "language_info": {
   "codemirror_mode": {
    "name": "ipython",
    "version": 3
   },
   "file_extension": ".py",
   "mimetype": "text/x-python",
   "name": "python",
   "nbconvert_exporter": "python",
   "pygments_lexer": "ipython3",
   "version": "3.10.5"
  }
 },
 "nbformat": 4,
 "nbformat_minor": 5
}
