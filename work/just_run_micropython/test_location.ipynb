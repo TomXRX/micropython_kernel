{
 "cells": [
  {
   "cell_type": "code",
   "execution_count": 1,
   "id": "b43115b4-f415-479c-ace0-a657c6340d87",
   "metadata": {},
   "outputs": [
    {
     "name": "stdout",
     "output_type": "stream",
     "text": [
      "MicroPython v1.19.1-60-ge22b7fb4a-dirty on 2022-06-26; linux [GCC 8.3.0] version\n",
      "Use Ctrl-D to exit, Ctrl-E for paste mode\n",
      ">>> \n",
      ">>> \n",
      ">>> "
     ]
    }
   ],
   "source": [
    "!/usr/local/bin/micropython-dev"
   ]
  },
  {
   "cell_type": "code",
   "execution_count": 12,
   "id": "ff2056eb-353e-4fb3-996e-c15c920f0d1c",
   "metadata": {},
   "outputs": [
    {
     "name": "stdout",
     "output_type": "stream",
     "text": [
      "/bin/sh: 1: /usr/local/bin/micropython: not found\n"
     ]
    }
   ],
   "source": [
    "!/usr/local/bin/micropython-dev -h"
   ]
  },
  {
   "cell_type": "code",
   "execution_count": 1,
   "id": "ef8ddd39-830e-40e7-af81-ababbdb126c2",
   "metadata": {},
   "outputs": [],
   "source": [
    "import bash_kernel"
   ]
  },
  {
   "cell_type": "code",
   "execution_count": 3,
   "id": "f2afcdaf-c854-4170-8514-d47ea7c1f058",
   "metadata": {},
   "outputs": [],
   "source": [
    "import os"
   ]
  },
  {
   "cell_type": "code",
   "execution_count": 5,
   "id": "b25cb561-9def-4208-aa79-643c82ea9234",
   "metadata": {},
   "outputs": [
    {
     "data": {
      "text/plain": [
       "['__main__.py',\n",
       " 'install.py',\n",
       " '__pycache__',\n",
       " 'images.py',\n",
       " 'kernel.py',\n",
       " '__init__.py']"
      ]
     },
     "execution_count": 5,
     "metadata": {},
     "output_type": "execute_result"
    }
   ],
   "source": [
    "os.listdir(\"/usr/local/lib/python3.7/dist-packages/bash_kernel/\")"
   ]
  },
  {
   "cell_type": "code",
   "execution_count": 8,
   "id": "f9d79cb7-4657-4e2a-9c5a-ad5c60a57f53",
   "metadata": {},
   "outputs": [],
   "source": [
    "!cp /usr/local/lib/python3.7/dist-packages/bash_kernel/kernel.py 1.py"
   ]
  },
  {
   "cell_type": "code",
   "execution_count": 9,
   "id": "fb2a1f08-6f09-47db-8887-996eb86bc8c6",
   "metadata": {},
   "outputs": [],
   "source": [
    "!cp /usr/local/lib/python3.7/dist-packages/bash_kernel/install.py install.py"
   ]
  },
  {
   "cell_type": "code",
   "execution_count": null,
   "id": "666e6ce8-9bf0-48da-9522-d6f6a12b8e94",
   "metadata": {},
   "outputs": [],
   "source": []
  }
 ],
 "metadata": {
  "kernelspec": {
   "display_name": "Python 3 (ipykernel)",
   "language": "python",
   "name": "python3"
  },
  "language_info": {
   "codemirror_mode": {
    "name": "ipython",
    "version": 3
   },
   "file_extension": ".py",
   "mimetype": "text/x-python",
   "name": "python",
   "nbconvert_exporter": "python",
   "pygments_lexer": "ipython3",
   "version": "3.7.3"
  }
 },
 "nbformat": 4,
 "nbformat_minor": 5
}
