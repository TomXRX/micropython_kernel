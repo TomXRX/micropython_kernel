{
 "cells": [
  {
   "cell_type": "code",
   "execution_count": 1,
   "id": "780c1bde-de13-4e02-b602-3f506ab01fad",
   "metadata": {},
   "outputs": [
    {
     "name": "stdout",
     "output_type": "stream",
     "text": [
      "from esp_udp import *\n",
      "import socket\n"
     ]
    }
   ],
   "source": [
    "from esp_udp import *\n",
    "import socket"
   ]
  },
  {
   "cell_type": "code",
   "execution_count": 2,
   "id": "6c288228-944d-4ee9-9e67-c3b191a19546",
   "metadata": {},
   "outputs": [
    {
     "name": "stdout",
     "output_type": "stream",
     "text": [
      "addr=socket.getaddrinfo(\"192.168.128.2\", \"8080\", socket.AF_INET, socket.SOCK_DGRAM)[0][4]\n"
     ]
    }
   ],
   "source": [
    "addr=socket.getaddrinfo(\"192.168.128.2\", \"8080\", socket.AF_INET, socket.SOCK_DGRAM)[0][4]"
   ]
  },
  {
   "cell_type": "code",
   "execution_count": 3,
   "id": "8b539361-c594-42a0-8df7-75924cd05a94",
   "metadata": {},
   "outputs": [
    {
     "name": "stdout",
     "output_type": "stream",
     "text": [
      "addr=socket.getaddrinfo(\"0.0.0.0\", \"8080\", socket.AF_INET, socket.SOCK_DGRAM)[0][4]\n"
     ]
    }
   ],
   "source": [
    "addr=socket.getaddrinfo(\"0.0.0.0\", \"8080\", socket.AF_INET, socket.SOCK_DGRAM)[0][4]"
   ]
  },
  {
   "cell_type": "code",
   "execution_count": 4,
   "id": "7876d96c-c29b-4919-b490-1ec38d7ff610",
   "metadata": {},
   "outputs": [
    {
     "name": "stdout",
     "output_type": "stream",
     "text": [
      "esp=ResponderDummy(addr)\n"
     ]
    }
   ],
   "source": [
    "esp=ResponderDummy(addr)"
   ]
  },
  {
   "cell_type": "code",
   "execution_count": null,
   "id": "dc781713-dcdb-4502-9047-84ec67a60066",
   "metadata": {},
   "outputs": [],
   "source": []
  },
  {
   "cell_type": "code",
   "execution_count": 5,
   "id": "2bcf5a9b-ee3b-49d0-b19c-15e27ccfdc64",
   "metadata": {},
   "outputs": [
    {
     "name": "stdout",
     "output_type": "stream",
     "text": [
      "b=Buff(maxlen=2)\n"
     ]
    }
   ],
   "source": [
    "b=Buff(maxlen=2)"
   ]
  },
  {
   "cell_type": "code",
   "execution_count": 6,
   "id": "0ebb575e-5a93-4f87-8159-60aa25f7d939",
   "metadata": {},
   "outputs": [
    {
     "name": "stdout",
     "output_type": "stream",
     "text": [
      "import json\n"
     ]
    }
   ],
   "source": [
    "import json"
   ]
  },
  {
   "cell_type": "raw",
   "id": "58585a30-7c10-4821-8c9b-aa11a29bb3cd",
   "metadata": {},
   "source": [
    "with open(\"stuff.txt\", 'r') as f:\n",
    "    print(json.load(f))"
   ]
  },
  {
   "cell_type": "code",
   "execution_count": 7,
   "id": "4b2ff13a-fc32-4de8-84e2-493610fa0659",
   "metadata": {},
   "outputs": [
    {
     "name": "stdout",
     "output_type": "stream",
     "text": [
      "f=open(\"stuff.txt\", 'r')\n",
      "f=json.load(f)\n",
      "f\n",
      "[3628, 2213, 825, 1440, 3507, 2935, 2181, 3662, 143, 1287, 955, 1963, 426, 3373, 1128, 3945, 761, 135, 3462, 2168, 676, 1545, 2390, 3055, 477, 383, 3104, 645, 3495, 316, 2451, 1220, 2714, 3457, 1717, 3937, 1803, 1232, 1535, 4, 1977, 3161, 2791, 363, 3663, 1110, 3136, 377, 1352, 744, 3796, 3123, 3755, 3711, 1179, 2011, 3847, 1147, 710, 3723, 929, 807, 3849, 3726, 1592, 668, 2839, 4076, 1814, 2760, 214, 2329, 2168, 2553, 1631, 1579, 3493, 3630, 1257, 1179, 1195, 1645, 446, 599, 4084, 1420, 77, 3660, 712, 1261, 2988, 37, 778, 2473, 2337, 2937, 3768, 3932, 412, 2572]\n"
     ]
    }
   ],
   "source": [
    "f=open(\"stuff.txt\", 'r')\n",
    "f=json.load(f)\n",
    "f"
   ]
  },
  {
   "cell_type": "code",
   "execution_count": null,
   "id": "18b4667e-4a2d-4c4f-8a3a-ba2c788f71b0",
   "metadata": {},
   "outputs": [],
   "source": []
  },
  {
   "cell_type": "code",
   "execution_count": 8,
   "id": "386d2497-acdc-4eee-b835-eaf131c27d0f",
   "metadata": {},
   "outputs": [
    {
     "name": "stdout",
     "output_type": "stream",
     "text": [
      "esp.poper=add_num(to_pop(f))\n"
     ]
    }
   ],
   "source": [
    "esp.poper=add_num(to_pop(f))"
   ]
  },
  {
   "cell_type": "code",
   "execution_count": 9,
   "id": "9e946b95-2c40-4666-ba93-3b7da3c8a893",
   "metadata": {},
   "outputs": [
    {
     "name": "stdout",
     "output_type": "stream",
     "text": [
      "esp.poper()\n",
      "[0, 3628, 2213, 825, 1440, 3507]\n"
     ]
    }
   ],
   "source": [
    "esp.poper()"
   ]
  },
  {
   "cell_type": "code",
   "execution_count": 10,
   "id": "19516c10-1ac4-416b-8e02-81c1bb718834",
   "metadata": {},
   "outputs": [
    {
     "name": "stdout",
     "output_type": "stream",
     "text": [
      "esp.add_recv_set([\"6I\", \"poper\"])\n"
     ]
    }
   ],
   "source": [
    "esp.add_recv_set([\"6I\", \"poper\"])"
   ]
  },
  {
   "cell_type": "code",
   "execution_count": 11,
   "id": "3ae187f4-4f6c-48d0-b2bf-8a78ca0516ea",
   "metadata": {},
   "outputs": [
    {
     "name": "stdout",
     "output_type": "stream",
     "text": [
      "esp()\n"
     ]
    }
   ],
   "source": [
    "esp()"
   ]
  },
  {
   "cell_type": "code",
   "execution_count": 12,
   "id": "a5e29901-da42-4b84-b0ff-a65962d3279a",
   "metadata": {},
   "outputs": [
    {
     "name": "stdout",
     "output_type": "stream",
     "text": [
      "from tem import *\n"
     ]
    }
   ],
   "source": [
    "from tem import *"
   ]
  },
  {
   "cell_type": "code",
   "execution_count": null,
   "id": "268c5c1b-55fc-41fc-a559-962d052eb2ca",
   "metadata": {},
   "outputs": [],
   "source": []
  },
  {
   "cell_type": "code",
   "execution_count": 13,
   "id": "1eafb3c4-90a5-436e-90ef-84666ec94cca",
   "metadata": {},
   "outputs": [
    {
     "name": "stdout",
     "output_type": "stream",
     "text": [
      "esp.send()\n"
     ]
    }
   ],
   "source": [
    "esp.send()"
   ]
  },
  {
   "cell_type": "code",
   "execution_count": null,
   "id": "b55452d2-211d-4a7b-84b7-62f8345870f9",
   "metadata": {},
   "outputs": [],
   "source": []
  },
  {
   "cell_type": "code",
   "execution_count": 20,
   "id": "9469bac1-99b9-42d3-bd8a-a9b28ed04171",
   "metadata": {},
   "outputs": [
    {
     "name": "stdout",
     "output_type": "stream",
     "text": [
      "loop=asyncio.get_event_loop()\n",
      "\n",
      "# x=loop.create_task(esp.loop_recv())\n",
      "y=loop.create_task(esp.loop_send())\n"
     ]
    }
   ],
   "source": [
    "loop=asyncio.get_event_loop()\n",
    "\n",
    "# x=loop.create_task(esp.loop_recv())\n",
    "y=loop.create_task(esp.loop_send())"
   ]
  },
  {
   "cell_type": "code",
   "execution_count": 21,
   "id": "493c2cc5-e1ad-4f45-8436-a25a84c74f57",
   "metadata": {},
   "outputs": [
    {
     "name": "stdout",
     "output_type": "stream",
     "text": [
      "loop.run_forever()\n",
      "Task exception wasn't retrieved\n",
      "future: <Task> coro= <generator object 'wrapped' at 7f6d804cf6e0>\n",
      "Traceback (most recent call last):\n",
      "  File \"uasyncio/core.py\", line 1, in run_until_complete\n",
      "  File \"util.py\", line 10, in wrapped\n",
      "  File \"esp_udp.py\", line 156, in loop_send\n",
      "  File \"esp_udp.py\", line 142, in send\n",
      "  File \"esp_udp.py\", line 124, in encode\n",
      "  File \"util.py\", line 31, in go_num\n",
      "  File \"util.py\", line 19, in poper\n",
      "IndexError: pop from empty list\n",
      "Task exception wasn't retrieved\n",
      "future: <Task> coro= <generator object 'wrapped' at 7f6d80397400>\n",
      "Traceback (most recent call last):\n",
      "  File \"uasyncio/core.py\", line 1, in run_until_complete\n",
      "  File \"util.py\", line 10, in wrapped\n",
      "  File \"esp_udp.py\", line 154, in loop_send\n",
      "  File \"esp_udp.py\", line 124, in encode\n",
      "  File \"util.py\", line 31, in go_num\n",
      "  File \"util.py\", line 19, in poper\n",
      "IndexError: pop from empty list\n"
     ]
    }
   ],
   "source": [
    "loop.run_forever()"
   ]
  },
  {
   "cell_type": "code",
   "execution_count": null,
   "id": "86427735-eea5-4238-afa5-fb53dfe762c8",
   "metadata": {},
   "outputs": [],
   "source": []
  },
  {
   "cell_type": "code",
   "execution_count": 16,
   "id": "3d8db7ab-8f50-4dc3-b3e6-43b5ac5245d9",
   "metadata": {},
   "outputs": [
    {
     "name": "stdout",
     "output_type": "stream",
     "text": [
      "esp.to\n",
      "[]\n"
     ]
    }
   ],
   "source": [
    "esp.to"
   ]
  },
  {
   "cell_type": "code",
   "execution_count": 1,
   "id": "a2515140-0a0b-41b8-993e-db697181853e",
   "metadata": {},
   "outputs": [
    {
     "name": "stdout",
     "output_type": "stream",
     "text": [
      "esp()\n",
      "Traceback (most recent call last):\n",
      "  File \"<stdin>\", line 1, in <module>\n",
      "NameError: name 'esp' isn't defined\n"
     ]
    }
   ],
   "source": [
    "esp()"
   ]
  },
  {
   "cell_type": "code",
   "execution_count": 18,
   "id": "23591214-3e1a-49c1-9ab2-6ce92258c426",
   "metadata": {},
   "outputs": [
    {
     "name": "stdout",
     "output_type": "stream",
     "text": [
      "esp.to\n",
      "[b\"\\x02\\x00'\\x0f\\xc0\\xa8\\xa0\\x02\\x00\\x00\\x00\\x00\\x00\\x00\\x00\\x00\"]\n"
     ]
    }
   ],
   "source": [
    "esp.to"
   ]
  },
  {
   "cell_type": "code",
   "execution_count": 19,
   "id": "0dcedaa0-40c5-4617-b708-353087712d0c",
   "metadata": {},
   "outputs": [
    {
     "name": "stdout",
     "output_type": "stream",
     "text": [
      "esp.encode()\n",
      "b'\\x01\\x00\\x00\\x00\\x01\\x02\\x00\\x00\\x009\\x03\\x00\\x00\\xa0\\x05\\x00\\x00\\xb3\\r\\x00\\x00w\\x0b\\x00\\x00\\x85\\x08\\x00\\x00'\n"
     ]
    }
   ],
   "source": [
    "esp.encode()"
   ]
  },
  {
   "cell_type": "code",
   "execution_count": null,
   "id": "e4c31b47-f7d8-46da-864d-a4a6f18d39a4",
   "metadata": {},
   "outputs": [],
   "source": []
  }
 ],
 "metadata": {
  "kernelspec": {
   "display_name": "Micropython",
   "language": "python",
   "name": "micropython"
  },
  "language_info": {
   "codemirror_mode": "python",
   "file_extension": ".py",
   "mimetype": "text/x-python",
   "name": "micropython_bash"
  }
 },
 "nbformat": 4,
 "nbformat_minor": 5
}
