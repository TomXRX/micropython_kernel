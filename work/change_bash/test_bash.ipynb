{
 "cells": [
  {
   "cell_type": "code",
   "execution_count": 1,
   "id": "fe604702-d5ae-4d5b-84b0-aaa12897ba2d",
   "metadata": {},
   "outputs": [],
   "source": [
    "from pexpect import replwrap, EOF\n",
    "import pexpect\n",
    "\n",
    "from subprocess import check_output\n",
    "import os.path\n",
    "import os\n",
    "\n",
    "import re\n",
    "import signal"
   ]
  },
  {
   "cell_type": "code",
   "execution_count": 2,
   "id": "2781b699-2abc-47d2-b3a2-a70bb5a76cb7",
   "metadata": {},
   "outputs": [],
   "source": [
    "bashrc = os.path.join(os.path.dirname(pexpect.__file__), 'bashrc.sh')"
   ]
  },
  {
   "cell_type": "code",
   "execution_count": 3,
   "id": "023e85f2-99ef-4f55-aeb3-ab1b46cf69a6",
   "metadata": {},
   "outputs": [],
   "source": [
    "child = pexpect.spawn(\"bash\", ['--rcfile', bashrc], echo=False,\n",
    "                      encoding='utf-8', codec_errors='replace')\n",
    "ps1 = replwrap.PEXPECT_PROMPT[:5] + u'\\[\\]' + replwrap.PEXPECT_PROMPT[5:]\n",
    "ps2 = replwrap.PEXPECT_CONTINUATION_PROMPT[:5] + u'\\[\\]' + replwrap.PEXPECT_CONTINUATION_PROMPT[5:]\n",
    "prompt_change = u\"PS1='{0}' PS2='{1}' PROMPT_COMMAND=''\".format(ps1, ps2)\n",
    "# Using IREPLWrapper to get incremental output"
   ]
  },
  {
   "cell_type": "code",
   "execution_count": 4,
   "id": "41a7867d-93fe-408b-9883-4d7b7315ebc0",
   "metadata": {},
   "outputs": [],
   "source": [
    "bashwrapper = replwrap.REPLWrapper(child, u'\\$', prompt_change,\n",
    "                                extra_init_cmd=\"export PAGER=cat\")"
   ]
  },
  {
   "cell_type": "code",
   "execution_count": 5,
   "id": "0b7c8497-4336-4c9a-bf7c-1f7c65949e8a",
   "metadata": {},
   "outputs": [
    {
     "data": {
      "text/plain": [
       "'connect_to.ipynb     kernel.py\\t\\t    recv.ipynb\\ttest_bash.ipynb\\r\\ninstall_by_py.ipynb  read_write_json.ipynb  test.ipynb\\r\\n'"
      ]
     },
     "execution_count": 5,
     "metadata": {},
     "output_type": "execute_result"
    }
   ],
   "source": [
    "bashwrapper.run_command(\"ls\")"
   ]
  },
  {
   "cell_type": "code",
   "execution_count": null,
   "id": "3c07620a-b897-4153-a404-eeb251811213",
   "metadata": {},
   "outputs": [],
   "source": []
  }
 ],
 "metadata": {
  "kernelspec": {
   "display_name": "Python 3 (ipykernel)",
   "language": "python",
   "name": "python3"
  },
  "language_info": {
   "codemirror_mode": {
    "name": "ipython",
    "version": 3
   },
   "file_extension": ".py",
   "mimetype": "text/x-python",
   "name": "python",
   "nbconvert_exporter": "python",
   "pygments_lexer": "ipython3",
   "version": "3.7.3"
  }
 },
 "nbformat": 4,
 "nbformat_minor": 5
}
