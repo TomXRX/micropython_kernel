{
 "cells": [
  {
   "cell_type": "code",
   "execution_count": 1,
   "id": "879cf5f9-5bce-4158-bfb9-8825f97789cc",
   "metadata": {},
   "outputs": [],
   "source": [
    "import json\n",
    "import os\n",
    "import sys\n",
    "import argparse\n",
    "\n",
    "from jupyter_client.kernelspec import KernelSpecManager\n",
    "from IPython.utils.tempdir import TemporaryDirectory"
   ]
  },
  {
   "cell_type": "code",
   "execution_count": 2,
   "id": "d829d216-a7dd-4491-95a7-3da9942e85fb",
   "metadata": {},
   "outputs": [],
   "source": [
    "kernel_json = {\n",
    "    \"argv\": [sys.executable, \"kernel.py\", \"-f\", \"{connection_file}\"],\n",
    "    \"display_name\": \"tom_mqtt\",\n",
    "    \"language\": \"python\",\n",
    "}"
   ]
  },
  {
   "cell_type": "code",
   "execution_count": 3,
   "id": "18ce1db6-ba7f-4b34-8284-fb6ad72da98f",
   "metadata": {},
   "outputs": [],
   "source": [
    "import pathlib"
   ]
  },
  {
   "cell_type": "code",
   "execution_count": 4,
   "id": "f46b2b0f-d9cf-47a2-8689-4ed4099c59cb",
   "metadata": {},
   "outputs": [
    {
     "data": {
      "text/plain": [
       "'/home/jovyan/work/change_bash/kernel.py'"
      ]
     },
     "execution_count": 4,
     "metadata": {},
     "output_type": "execute_result"
    }
   ],
   "source": [
    "k=str(pathlib.Path(\"kernel.py\").absolute())\n",
    "k"
   ]
  },
  {
   "cell_type": "code",
   "execution_count": 5,
   "id": "0c2be86d-dc73-47e3-9638-613d5b5e46bb",
   "metadata": {},
   "outputs": [],
   "source": [
    "kernel_json = {\"argv\":[sys.executable,k, \"-f\", \"{connection_file}\"],\n",
    " \"display_name\":\"Micropython\",\n",
    " \"language\":\"bash\",\n",
    " \"codemirror_mode\":\"shell\",\n",
    " \"env\":{\"PS1\": \"$\"}\n",
    "}"
   ]
  },
  {
   "cell_type": "code",
   "execution_count": 6,
   "id": "47b1ca10-49c7-48ef-bb9e-bd0cd0148d50",
   "metadata": {},
   "outputs": [],
   "source": [
    "kernel_json = {\"argv\":[sys.executable,k, \"-f\", \"{connection_file}\"],\n",
    " \"display_name\":\"Micropython\",\n",
    " \"language\":\"python\",}"
   ]
  },
  {
   "cell_type": "code",
   "execution_count": 7,
   "id": "d92926a8-d672-4eb3-803b-7c51ac476692",
   "metadata": {},
   "outputs": [],
   "source": [
    "def install_my_kernel_spec(user=True):\n",
    "    with TemporaryDirectory() as td:\n",
    "        os.chmod(td, 0o755) # Starts off as 700, not user readable\n",
    "        with open(os.path.join(td, 'kernel.json'), 'w') as f:\n",
    "            json.dump(kernel_json, f, sort_keys=True)\n",
    "        # TODO: Copy resources once they're specified\n",
    "\n",
    "        print('Installing IPython kernel spec')\n",
    "        KernelSpecManager().install_kernel_spec(td, 'micropython', user=user)"
   ]
  },
  {
   "cell_type": "code",
   "execution_count": 8,
   "id": "20162793-486e-440d-bca9-da273ccc4481",
   "metadata": {},
   "outputs": [
    {
     "data": {
      "text/plain": [
       "False"
      ]
     },
     "execution_count": 8,
     "metadata": {},
     "output_type": "execute_result"
    }
   ],
   "source": [
    "def _is_root():\n",
    "    try:\n",
    "        return os.geteuid() == 0\n",
    "    except AttributeError:\n",
    "        return False # assume not an admin on non-Unix platforms\\\n",
    "user=not _is_root()\n",
    "user"
   ]
  },
  {
   "cell_type": "code",
   "execution_count": 9,
   "id": "c64dbffb-9062-4ff2-9317-eda543e1a9df",
   "metadata": {},
   "outputs": [
    {
     "name": "stdout",
     "output_type": "stream",
     "text": [
      "Installing IPython kernel spec\n"
     ]
    }
   ],
   "source": [
    "install_my_kernel_spec(user=user)"
   ]
  },
  {
   "cell_type": "code",
   "execution_count": 10,
   "id": "1994cd97-6647-4b02-8648-823d3e626eb1",
   "metadata": {},
   "outputs": [
    {
     "name": "stdout",
     "output_type": "stream",
     "text": [
      "Available kernels:\n",
      "  micropython    /usr/local/share/jupyter/kernels/micropython\n",
      "  python3        /usr/local/share/jupyter/kernels/python3\n"
     ]
    }
   ],
   "source": [
    "!jupyter kernelspec list"
   ]
  },
  {
   "cell_type": "code",
   "execution_count": null,
   "id": "8d8dcb4a-af8f-41cc-aeb8-d0cbbe52271a",
   "metadata": {},
   "outputs": [],
   "source": []
  },
  {
   "cell_type": "code",
   "execution_count": null,
   "id": "605c12bd-d384-4460-8efb-61c204595a50",
   "metadata": {},
   "outputs": [],
   "source": []
  },
  {
   "cell_type": "code",
   "execution_count": null,
   "id": "3e42563b-7d10-4467-a29f-9bb99a233013",
   "metadata": {},
   "outputs": [],
   "source": []
  }
 ],
 "metadata": {
  "kernelspec": {
   "display_name": "Python 3 (ipykernel)",
   "language": "python",
   "name": "python3"
  },
  "language_info": {
   "codemirror_mode": {
    "name": "ipython",
    "version": 3
   },
   "file_extension": ".py",
   "mimetype": "text/x-python",
   "name": "python",
   "nbconvert_exporter": "python",
   "pygments_lexer": "ipython3",
   "version": "3.7.3"
  }
 },
 "nbformat": 4,
 "nbformat_minor": 5
}
